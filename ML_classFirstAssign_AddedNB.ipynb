{
 "cells": [
  {
   "cell_type": "markdown",
   "metadata": {},
   "source": [
    "# Part 1:\n",
    "Data Loading and Preparation. Load the diabetes dataset into two numpy arrays: one for the feature set and one for the target. Pick a single feature to try to predict the target (disease progression). Document the reason you chose the feature you did. Break your single feature and target sets into training and test sets with the last 20 rows being in the test set.<p></p><p></p>\n",
    "https://scikit-learn.org/stable/datasets/index.html#diabetes-dataset  This site helped to spell out more what the serums were about."
   ]
  },
  {
   "cell_type": "markdown",
   "metadata": {},
   "source": [
    "First line here did exploring stuff:"
   ]
  },
  {
   "cell_type": "code",
   "execution_count": 2,
   "metadata": {},
   "outputs": [
    {
     "name": "stdout",
     "output_type": "stream",
     "text": [
      "dict_keys(['data', 'target', 'frame', 'DESCR', 'feature_names', 'data_filename', 'target_filename'])\n",
      "['age', 'sex', 'bmi', 'bp', 's1', 's2', 's3', 's4', 's5', 's6'] \n",
      "--\n",
      "\n",
      ".. _diabetes_dataset:\n",
      "\n",
      "Diabetes dataset\n",
      "----------------\n",
      "\n",
      "Ten baseline variables, age, sex, body mass index, average blood\n",
      "pressure, and six blood serum measurements were obtained for each of n =\n",
      "442 diabetes patients, as well as the response of interest, a\n",
      "quantitative measure of disease progression one year after baseline.\n",
      "\n",
      "**Data Set Characteristics:**\n",
      "\n",
      "  :Number of Instances: 442\n",
      "\n",
      "  :Number of Attributes: First 10 columns are numeric predictive values\n",
      "\n",
      "  :Target: Column 11 is a quantitative measure of disease progression one year after baseline\n",
      "\n",
      "  :Attribute Information:\n",
      "      - age     age in years\n",
      "      - sex\n",
      "      - bmi     body mass index\n",
      "      - bp      average blood pressure\n",
      "      - s1      tc, T-Cells (a type of white blood cells)\n",
      "      - s2      ldl, low-density lipoproteins\n",
      "      - s3      hdl, high-density lipoproteins\n",
      "      - s4      tch, thyroid stimulating hormone\n",
      "      - s5      ltg, lamotrigine\n",
      "      - s6      glu, blood sugar level\n",
      "\n",
      "Note: Each of these 10 feature variables have been mean centered and scaled by the standard deviation times `n_samples` (i.e. the sum of squares of each column totals 1).\n",
      "\n",
      "Source URL:\n",
      "https://www4.stat.ncsu.edu/~boos/var.select/diabetes.html\n",
      "\n",
      "For more information see:\n",
      "Bradley Efron, Trevor Hastie, Iain Johnstone and Robert Tibshirani (2004) \"Least Angle Regression,\" Annals of Statistics (with discussion), 407-499.\n",
      "(https://web.stanford.edu/~hastie/Papers/LARS/LeastAngle_2002.pdf)\n",
      "[ 0.03807591  0.05068012  0.06169621  0.02187235 -0.0442235  -0.03482076\n",
      " -0.04340085 -0.00259226  0.01990842 -0.01764613] CHECK it here \n",
      "*******\n",
      "\n",
      "151.0\n",
      "\n",
      "CHECKING  [ 0.06350368  0.05068012 -0.00189471  0.06662967  0.09061988  0.10891438\n",
      "  0.02286863  0.01770335 -0.03581673  0.00306441]\n"
     ]
    }
   ],
   "source": [
    "import numpy as np\n",
    "import pandas as pd\n",
    "import math\n",
    "import matplotlib\n",
    "import matplotlib.pyplot as plt\n",
    "import sklearn\n",
    "\n",
    "from sklearn.datasets import load_diabetes\n",
    "diabetes_dataset = load_diabetes()\n",
    "print(diabetes_dataset.keys())\n",
    "print(diabetes_dataset['feature_names'],\"\\n--\\n\")\n",
    "print(diabetes_dataset['DESCR'])\n",
    "# print(diabetes_dataset['data_filename'])\n",
    "print(diabetes_dataset['data'][0], \"CHECK it here \\n*******\\n\")\n",
    "print(diabetes_dataset['target'][0])\n",
    "print(\"\\nCHECKING \", diabetes_dataset.data[7])"
   ]
  },
  {
   "cell_type": "markdown",
   "metadata": {},
   "source": [
    "**From instructions: Load the diabetes dataset into two numpy arrays: one for the feature set and one for the target.**"
   ]
  },
  {
   "cell_type": "code",
   "execution_count": 3,
   "metadata": {},
   "outputs": [],
   "source": [
    "dataFeatures = pd.DataFrame(diabetes_dataset.data, columns=diabetes_dataset.feature_names)"
   ]
  },
  {
   "cell_type": "code",
   "execution_count": 4,
   "metadata": {},
   "outputs": [
    {
     "data": {
      "text/plain": [
       "DisProgYr    1.000000\n",
       "bmi          0.586450\n",
       "s5           0.565883\n",
       "bp           0.441484\n",
       "s4           0.430453\n",
       "s6           0.382483\n",
       "s1           0.212022\n",
       "age          0.187889\n",
       "s2           0.174054\n",
       "sex          0.043062\n",
       "s3          -0.394789\n",
       "Name: DisProgYr, dtype: float64"
      ]
     },
     "execution_count": 4,
     "metadata": {},
     "output_type": "execute_result"
    }
   ],
   "source": [
    "target = pd.DataFrame(diabetes_dataset.target, columns = ['DisProg'])\n",
    "#DisProg is for Disease Progression\n",
    "dataFeaturesWtarget = dataFeatures\n",
    "dataFeaturesWtarget['DisProgYr']=diabetes_dataset.target\n",
    "dataFeaturesWtarget.head(5)\n",
    "corr_matrix = dataFeaturesWtarget.corr()\n",
    "corr_matrix['DisProgYr'].sort_values(ascending=False)"
   ]
  },
  {
   "cell_type": "markdown",
   "metadata": {},
   "source": [
    "**From instructions: Pick a single feature to try to predict the target.**"
   ]
  },
  {
   "cell_type": "markdown",
   "metadata": {},
   "source": [
    "Picking Body Mass Index (BMI) as a single feature to predict the target. It seems like a good candidate that kind of measures dietary choices that could lead to diabetes or complicate diabetes. Blood Pressue would also be good but we'll start with BMI because you have to start somewhere. List location is 2 or 'bmi'. Also, in a correlation test it seems to be highly correlated."
   ]
  },
  {
   "cell_type": "markdown",
   "metadata": {},
   "source": [
    "**From Instructions: Break your single feature and target sets into training and test sets with the last 20 rows being in the test set** So I will break into single feature. (Just did the target) but will do the last 20 rows condition too.  **Decided to later split out after the random pull in training just in case.**"
   ]
  },
  {
   "cell_type": "code",
   "execution_count": 5,
   "metadata": {},
   "outputs": [],
   "source": [
    "# dataBMI = pd.DataFrame(diabetes_dataset.data[0], columns=['BMI'])\n",
    "dataBMI = dataFeatures['bmi']"
   ]
  },
  {
   "cell_type": "code",
   "execution_count": 6,
   "metadata": {},
   "outputs": [
    {
     "name": "stdout",
     "output_type": "stream",
     "text": [
      "442\n",
      "20% of data for training: 88.4 round up to 89 as sci kit seems to\n",
      "if last 20 rows need to be in the training, then 69 rows from 422 is __%: 0.16350710900473933\n",
      "69\n"
     ]
    }
   ],
   "source": [
    "#Do this to get the last 20 rows as requested in instructions:\n",
    "dataBMI.head(5)\n",
    "print(len(dataBMI))\n",
    "print('20% of data for training:',len(dataBMI)*.2,\"round up to\", math.ceil(len(dataBMI)*.2), \"as sci kit seems to\")\n",
    "print(\"if last 20 rows need to be in the training, then 69 rows from 422 is __%:\", (69/422))\n",
    "newPerc=math.floor(422*.164)\n",
    "print(newPerc)"
   ]
  },
  {
   "cell_type": "code",
   "execution_count": 7,
   "metadata": {},
   "outputs": [
    {
     "name": "stdout",
     "output_type": "stream",
     "text": [
      "        age       sex       bmi        bp        s1        s2        s3  \\\n",
      "0  0.038076  0.050680  0.061696  0.021872 -0.044223 -0.034821 -0.043401   \n",
      "1 -0.001882 -0.044642 -0.051474 -0.026328 -0.008449 -0.019163  0.074412   \n",
      "2  0.085299  0.050680  0.044451 -0.005671 -0.045599 -0.034194 -0.032356   \n",
      "3 -0.089063 -0.044642 -0.011595 -0.036656  0.012191  0.024991 -0.036038   \n",
      "4  0.005383 -0.044642 -0.036385  0.021872  0.003935  0.015596  0.008142   \n",
      "\n",
      "         s4        s5        s6  DisProgYr  \n",
      "0 -0.002592  0.019908 -0.017646      151.0  \n",
      "1 -0.039493 -0.068330 -0.092204       75.0  \n",
      "2 -0.002592  0.002864 -0.025930      141.0  \n",
      "3  0.034309  0.022692 -0.009362      206.0  \n",
      "4 -0.002592 -0.031991 -0.046641      135.0  \n",
      "(422,)\n",
      "(422, 1)\n",
      "[[ 0.06169621]\n",
      " [-0.05147406]\n",
      " [ 0.04445121]\n",
      " [-0.01159501]\n",
      " [-0.03638469]]\n"
     ]
    }
   ],
   "source": [
    "#prepping the data\n",
    "from sklearn.model_selection import train_test_split\n",
    "dataTestLast20=dataFeaturesWtarget[-20:]\n",
    "dataLessTheLast=dataFeaturesWtarget[:-20]\n",
    "\n",
    "#OLD WAY where I misunderstood:\n",
    "# Making the Training and test sets using the last 20 rows but getting 20% too like in example:\n",
    "# oldTrain_set, oldTest_set = train_test_split(dataLessTheLast, test_size=newPerc, random_state=42)\n",
    "# fullTestSet= test_set+dataTestLast20\n",
    "# NEW: Making the Training and test sets using the last 20 rows only.\n",
    "train_set = dataLessTheLast\n",
    "fullTestSet = dataTestLast20\n",
    "\n",
    "#now Train Set has the whole set. \n",
    "#--DID some clever research to set to numpy and then to get the same reshaping done\n",
    "trainSetNpBMI=np.array(train_set['bmi'])\n",
    "trainBMI=trainSetNpBMI.reshape(-1,1)\n",
    "trainSetNpTarg=np.array(train_set['DisProgYr'])\n",
    "trainTarg=trainSetNpTarg.reshape(-1,1)\n",
    "\n",
    "fullTestNpBMI=np.array(fullTestSet['bmi'])\n",
    "fullTestBMI=fullTestNpBMI.reshape(-1,1)\n",
    "fullTestNpTarg=np.array(fullTestSet['DisProgYr'])\n",
    "fullTestTarg=fullTestNpTarg.reshape(-1,1)\n",
    "# print(trainBMI.shape, \"just bmi train\")\n",
    "print(train_set[:5])\n",
    "print(train_set['bmi'].shape)\n",
    "print(trainBMI.shape)\n",
    "print(trainBMI[:5])"
   ]
  },
  {
   "cell_type": "code",
   "execution_count": 8,
   "metadata": {},
   "outputs": [],
   "source": [
    "# Looking into the splits and stuff:\n",
    "# print(target.head(5))\n",
    "# dataFeatures.head(5)\n",
    "# dataFeatures.describe()\n",
    "# print(dataLessTheLast[:5])"
   ]
  },
  {
   "cell_type": "code",
   "execution_count": 9,
   "metadata": {},
   "outputs": [
    {
     "name": "stdout",
     "output_type": "stream",
     "text": [
      "(442, 11) Full set\n",
      "(422, 11) Train set split 80/20\n",
      "(422, 1) just bmi train\n",
      "(422, 1) just targ train\n",
      "(20, 11) Test set with last 20 rows\n",
      "(20, 1) just bmi test\n",
      "(20, 1) just target test\n",
      "<class 'tuple'>\n"
     ]
    }
   ],
   "source": [
    "#Early on I had pulled apart and kept separate target from features \n",
    "#but realized that they needed to be split in training and test sets together\n",
    "print(dataFeaturesWtarget.shape,\"Full set\")\n",
    "print(train_set.shape, \"Train set split 80/20\")\n",
    "print(trainBMI.shape, \"just bmi train\")\n",
    "print(trainTarg.shape, \"just targ train\")\n",
    "print(fullTestSet.shape, \"Test set with last 20 rows\")\n",
    "print(fullTestBMI.shape, \"just bmi test\")\n",
    "print(fullTestTarg.shape, \"just target test\")\n",
    "print(type(train_set.shape))\n",
    "# print(train_set[:5])"
   ]
  },
  {
   "cell_type": "markdown",
   "metadata": {},
   "source": [
    "# Part 2:\n",
    "Model Training. Instantiate a linear regression model, and train it with your single feature and target sets."
   ]
  },
  {
   "cell_type": "code",
   "execution_count": 10,
   "metadata": {},
   "outputs": [
    {
     "data": {
      "text/plain": [
       "LinearRegression()"
      ]
     },
     "execution_count": 10,
     "metadata": {},
     "output_type": "execute_result"
    }
   ],
   "source": [
    "from sklearn.linear_model import LinearRegression\n",
    "\n",
    "lr = LinearRegression()\n",
    "# print(trainBMI.head(5))\n",
    "# print(trainTarg.head(5))\n",
    "# print(type(lr),\"type LR\")\n",
    "# train_singleSet=pd.DataFrame(train_set['bmi'], columns=['bmi'])\n",
    "# train_singleSet['target']=train_set['DisProgYr']\n",
    "# print(train_singleSet.head(5))\n",
    "# train_singleSet['target']=trainTarg\n",
    "# train_singleSet.head(5)\n",
    "# print(lr.fit(train_singleSet['bmi'], train_singleSet['target']), \"Fit method\")\n",
    "\n",
    "# lr.fit(train_singleSet['bmi'], train_singleSet['target'])\n",
    "lr.fit(trainBMI,trainTarg)"
   ]
  },
  {
   "cell_type": "markdown",
   "metadata": {},
   "source": [
    "# Part 3:\n",
    "Prediction and Measurement. List the first 10 predictions on your single feature **training set.** Print out the feature coefficient and the root mean squared error of your model."
   ]
  },
  {
   "cell_type": "code",
   "execution_count": 11,
   "metadata": {},
   "outputs": [
    {
     "name": "stdout",
     "output_type": "stream",
     "text": [
      "Predict method Training set: [[210.80457868]\n",
      " [104.6239487 ]\n",
      " [194.62467316]\n",
      " [142.03998022]\n",
      " [118.78136603]\n",
      " [114.73638965]\n",
      " [108.66892508]\n",
      " [151.14117707]\n",
      " [210.80457868]\n",
      " [189.56845268]]\n",
      "Predict methodTEST: [[225.9732401 ]\n",
      " [115.74763374]\n",
      " [163.27610621]\n",
      " [114.73638965]\n",
      " [120.80385422]\n",
      " [158.21988574]\n",
      " [236.08568105]\n",
      " [121.81509832]\n",
      " [ 99.56772822]\n",
      " [123.83758651]]\n",
      "BMI - Coefficient: [[938.23786125]]\n",
      "Train Mean Squared Error:  3955.019853401393\n",
      "Root Train Mean Squared Error:  62.888948579232846\n",
      "Test Mean Squared Error:  2548.0723987259694\n",
      "Root TEST Mean Squared Error:  50.478434986892864\n"
     ]
    }
   ],
   "source": [
    "from sklearn.metrics import mean_squared_error #,r2_score\n",
    "\n",
    "bmiPredictions=lr.predict(trainBMI)\n",
    "print(\"Predict method Training set:\", bmiPredictions[0:10])\n",
    "bmiPredictionsTEST=lr.predict(fullTestBMI)\n",
    "print(\"Predict methodTEST:\", bmiPredictionsTEST[0:10])\n",
    "\n",
    "print(\"BMI - Coefficient:\", lr.coef_)\n",
    "\n",
    "mseTrain = mean_squared_error(trainTarg, bmiPredictions)\n",
    "rmseTrain = np.sqrt(mseTrain)\n",
    "print(\"Train Mean Squared Error: \", mseTrain)\n",
    "print(\"Root Train Mean Squared Error: \", rmseTrain)\n",
    "bmiTestPredict=lr.predict(fullTestBMI)\n",
    "mseTest = mean_squared_error(fullTestTarg, bmiTestPredict)\n",
    "rmseTest = np.sqrt(mseTest)\n",
    "print(\"Test Mean Squared Error: \", mseTest)\n",
    "print(\"Root TEST Mean Squared Error: \", rmseTest)"
   ]
  },
  {
   "cell_type": "markdown",
   "metadata": {},
   "source": [
    "# Part 4:\n",
    "Visualization. Print out a scatter plot with the feature you chose on the x-axis, and progression on the y-axis. Plot the regression line on this same graph with appropriate labels on each axis."
   ]
  },
  {
   "cell_type": "code",
   "execution_count": 12,
   "metadata": {
    "scrolled": true
   },
   "outputs": [
    {
     "data": {
      "image/png": "[encoded data removed]",
      "text/plain": [
       "<Figure size 432x288 with 1 Axes>"
      ]
     },
     "metadata": {
      "needs_background": "light"
     },
     "output_type": "display_data"
    }
   ],
   "source": [
    "import matplotlib.pyplot as plt\n",
    "plt.scatter(trainBMI, trainTarg, color=\"steelblue\")\n",
    "plt.scatter(fullTestBMI, fullTestTarg, color=\"gold\")\n",
    "plt.plot(fullTestBMI, lr.predict(fullTestBMI), color = 'darkred')\n",
    "plt.title('Disease Progression 1yr based on BMI')\n",
    "plt.xlabel('Body Mass Index(BMI)')\n",
    "plt.ylabel('Disease Prog')\n",
    "plt.show()"
   ]
  }
 ],
 "metadata": {
  "kernelspec": {
   "display_name": "Python 3",
   "language": "python",
   "name": "python3"
  },
  "language_info": {
   "codemirror_mode": {
    "name": "ipython",
    "version": 3
   },
   "file_extension": ".py",
   "mimetype": "text/x-python",
   "name": "python",
   "nbconvert_exporter": "python",
   "pygments_lexer": "ipython3",
   "version": "3.6.9"
  }
 },
 "nbformat": 4,
 "nbformat_minor": 2
}
