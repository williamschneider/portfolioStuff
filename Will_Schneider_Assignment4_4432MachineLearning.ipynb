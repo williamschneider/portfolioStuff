{
 "cells": [
  {
   "cell_type": "markdown",
   "metadata": {},
   "source": [
    "# Assignment 3, Part 1:\n",
    "- ❌ Read in bike_share_hour.csv as a pandas dataframe. The columns are described in the bike_share_readme.txt if you need more information about them.\n",
    "- ❌ Look at the dataset, and convert the columns that are categorical to a pandas “category” type.\n",
    "- ❌Look for non-null values in the dataset.\n",
    "- ❌Do a descriptive analysis of the numeric columns.\n",
    "- ❌Implement a bar plot of cnt versus season. Document which season has the most bike rides and which season has the least.\n",
    "- ❌Implement a bar chart for working day versus count. Document how bike rides are distributed across these two classes.\n",
    "- ❌Implement a bar chart for month versus count. Document which months have the most bike rides.\n",
    "- ❌Implement code to figure out which months belong to which seasons.\n",
    "- ❌Implement a bar plot of weathersit versus cnt. Document which weather situation has less bike rentals.\n",
    "- ❌Implement a point plot of weathersit on the x-axis, count on the y-axis, and the season as the hue. Document how season and weathersit are related.\n",
    "- ❌Implement a bar plot of hour versus count. Are there any specific hours that are busier than others?\n",
    "- ❌Implement a bar plot of hour versus count on weekends and holidays (when workingday = 0). Does the hourly trend change on weekends?"
   ]
  },
  {
   "cell_type": "code",
   "execution_count": 1,
   "metadata": {},
   "outputs": [],
   "source": [
    "import pandas as pd\n",
    "import numpy as np\n",
    "\n",
    "\n",
    "bikeShareDF=pd.read_csv('bike_share_hour.csv')\n"
   ]
  },
  {
   "cell_type": "code",
   "execution_count": 2,
   "metadata": {
    "scrolled": true
   },
   "outputs": [
    {
     "data": {
      "text/html": [
       "<div>\n",
       "<style scoped>\n",
       "    .dataframe tbody tr th:only-of-type {\n",
       "        vertical-align: middle;\n",
       "    }\n",
       "\n",
       "    .dataframe tbody tr th {\n",
       "        vertical-align: top;\n",
       "    }\n",
       "\n",
       "    .dataframe thead th {\n",
       "        text-align: right;\n",
       "    }\n",
       "</style>\n",
       "<table border=\"1\" class=\"dataframe\">\n",
       "  <thead>\n",
       "    <tr style=\"text-align: right;\">\n",
       "      <th></th>\n",
       "      <th>instant</th>\n",
       "      <th>dteday</th>\n",
       "      <th>season</th>\n",
       "      <th>yr</th>\n",
       "      <th>mnth</th>\n",
       "      <th>hr</th>\n",
       "      <th>holiday</th>\n",
       "      <th>weekday</th>\n",
       "      <th>workingday</th>\n",
       "      <th>weathersit</th>\n",
       "      <th>temp</th>\n",
       "      <th>atemp</th>\n",
       "      <th>hum</th>\n",
       "      <th>windspeed</th>\n",
       "      <th>casual</th>\n",
       "      <th>registered</th>\n",
       "      <th>cnt</th>\n",
       "    </tr>\n",
       "  </thead>\n",
       "  <tbody>\n",
       "    <tr>\n",
       "      <th>0</th>\n",
       "      <td>1</td>\n",
       "      <td>2011-01-01</td>\n",
       "      <td>1</td>\n",
       "      <td>0</td>\n",
       "      <td>1</td>\n",
       "      <td>0</td>\n",
       "      <td>0</td>\n",
       "      <td>6</td>\n",
       "      <td>0</td>\n",
       "      <td>1</td>\n",
       "      <td>0.24</td>\n",
       "      <td>0.2879</td>\n",
       "      <td>0.81</td>\n",
       "      <td>0.0000</td>\n",
       "      <td>3</td>\n",
       "      <td>13</td>\n",
       "      <td>16</td>\n",
       "    </tr>\n",
       "    <tr>\n",
       "      <th>1</th>\n",
       "      <td>2</td>\n",
       "      <td>2011-01-01</td>\n",
       "      <td>1</td>\n",
       "      <td>0</td>\n",
       "      <td>1</td>\n",
       "      <td>1</td>\n",
       "      <td>0</td>\n",
       "      <td>6</td>\n",
       "      <td>0</td>\n",
       "      <td>1</td>\n",
       "      <td>0.22</td>\n",
       "      <td>0.2727</td>\n",
       "      <td>0.80</td>\n",
       "      <td>0.0000</td>\n",
       "      <td>8</td>\n",
       "      <td>32</td>\n",
       "      <td>40</td>\n",
       "    </tr>\n",
       "    <tr>\n",
       "      <th>2</th>\n",
       "      <td>3</td>\n",
       "      <td>2011-01-01</td>\n",
       "      <td>1</td>\n",
       "      <td>0</td>\n",
       "      <td>1</td>\n",
       "      <td>2</td>\n",
       "      <td>0</td>\n",
       "      <td>6</td>\n",
       "      <td>0</td>\n",
       "      <td>1</td>\n",
       "      <td>0.22</td>\n",
       "      <td>0.2727</td>\n",
       "      <td>0.80</td>\n",
       "      <td>0.0000</td>\n",
       "      <td>5</td>\n",
       "      <td>27</td>\n",
       "      <td>32</td>\n",
       "    </tr>\n",
       "    <tr>\n",
       "      <th>3</th>\n",
       "      <td>4</td>\n",
       "      <td>2011-01-01</td>\n",
       "      <td>1</td>\n",
       "      <td>0</td>\n",
       "      <td>1</td>\n",
       "      <td>3</td>\n",
       "      <td>0</td>\n",
       "      <td>6</td>\n",
       "      <td>0</td>\n",
       "      <td>1</td>\n",
       "      <td>0.24</td>\n",
       "      <td>0.2879</td>\n",
       "      <td>0.75</td>\n",
       "      <td>0.0000</td>\n",
       "      <td>3</td>\n",
       "      <td>10</td>\n",
       "      <td>13</td>\n",
       "    </tr>\n",
       "    <tr>\n",
       "      <th>4</th>\n",
       "      <td>5</td>\n",
       "      <td>2011-01-01</td>\n",
       "      <td>1</td>\n",
       "      <td>0</td>\n",
       "      <td>1</td>\n",
       "      <td>4</td>\n",
       "      <td>0</td>\n",
       "      <td>6</td>\n",
       "      <td>0</td>\n",
       "      <td>1</td>\n",
       "      <td>0.24</td>\n",
       "      <td>0.2879</td>\n",
       "      <td>0.75</td>\n",
       "      <td>0.0000</td>\n",
       "      <td>0</td>\n",
       "      <td>1</td>\n",
       "      <td>1</td>\n",
       "    </tr>\n",
       "    <tr>\n",
       "      <th>5</th>\n",
       "      <td>6</td>\n",
       "      <td>2011-01-01</td>\n",
       "      <td>1</td>\n",
       "      <td>0</td>\n",
       "      <td>1</td>\n",
       "      <td>5</td>\n",
       "      <td>0</td>\n",
       "      <td>6</td>\n",
       "      <td>0</td>\n",
       "      <td>2</td>\n",
       "      <td>0.24</td>\n",
       "      <td>0.2576</td>\n",
       "      <td>0.75</td>\n",
       "      <td>0.0896</td>\n",
       "      <td>0</td>\n",
       "      <td>1</td>\n",
       "      <td>1</td>\n",
       "    </tr>\n",
       "    <tr>\n",
       "      <th>6</th>\n",
       "      <td>7</td>\n",
       "      <td>2011-01-01</td>\n",
       "      <td>1</td>\n",
       "      <td>0</td>\n",
       "      <td>1</td>\n",
       "      <td>6</td>\n",
       "      <td>0</td>\n",
       "      <td>6</td>\n",
       "      <td>0</td>\n",
       "      <td>1</td>\n",
       "      <td>0.22</td>\n",
       "      <td>0.2727</td>\n",
       "      <td>0.80</td>\n",
       "      <td>0.0000</td>\n",
       "      <td>2</td>\n",
       "      <td>0</td>\n",
       "      <td>2</td>\n",
       "    </tr>\n",
       "    <tr>\n",
       "      <th>7</th>\n",
       "      <td>8</td>\n",
       "      <td>2011-01-01</td>\n",
       "      <td>1</td>\n",
       "      <td>0</td>\n",
       "      <td>1</td>\n",
       "      <td>7</td>\n",
       "      <td>0</td>\n",
       "      <td>6</td>\n",
       "      <td>0</td>\n",
       "      <td>1</td>\n",
       "      <td>0.20</td>\n",
       "      <td>0.2576</td>\n",
       "      <td>0.86</td>\n",
       "      <td>0.0000</td>\n",
       "      <td>1</td>\n",
       "      <td>2</td>\n",
       "      <td>3</td>\n",
       "    </tr>\n",
       "    <tr>\n",
       "      <th>8</th>\n",
       "      <td>9</td>\n",
       "      <td>2011-01-01</td>\n",
       "      <td>1</td>\n",
       "      <td>0</td>\n",
       "      <td>1</td>\n",
       "      <td>8</td>\n",
       "      <td>0</td>\n",
       "      <td>6</td>\n",
       "      <td>0</td>\n",
       "      <td>1</td>\n",
       "      <td>0.24</td>\n",
       "      <td>0.2879</td>\n",
       "      <td>0.75</td>\n",
       "      <td>0.0000</td>\n",
       "      <td>1</td>\n",
       "      <td>7</td>\n",
       "      <td>8</td>\n",
       "    </tr>\n",
       "    <tr>\n",
       "      <th>9</th>\n",
       "      <td>10</td>\n",
       "      <td>2011-01-01</td>\n",
       "      <td>1</td>\n",
       "      <td>0</td>\n",
       "      <td>1</td>\n",
       "      <td>9</td>\n",
       "      <td>0</td>\n",
       "      <td>6</td>\n",
       "      <td>0</td>\n",
       "      <td>1</td>\n",
       "      <td>0.32</td>\n",
       "      <td>0.3485</td>\n",
       "      <td>0.76</td>\n",
       "      <td>0.0000</td>\n",
       "      <td>8</td>\n",
       "      <td>6</td>\n",
       "      <td>14</td>\n",
       "    </tr>\n",
       "  </tbody>\n",
       "</table>\n",
       "</div>"
      ],
      "text/plain": [
       "   instant      dteday  season  yr  mnth  hr  holiday  weekday  workingday  \\\n",
       "0        1  2011-01-01       1   0     1   0        0        6           0   \n",
       "1        2  2011-01-01       1   0     1   1        0        6           0   \n",
       "2        3  2011-01-01       1   0     1   2        0        6           0   \n",
       "3        4  2011-01-01       1   0     1   3        0        6           0   \n",
       "4        5  2011-01-01       1   0     1   4        0        6           0   \n",
       "5        6  2011-01-01       1   0     1   5        0        6           0   \n",
       "6        7  2011-01-01       1   0     1   6        0        6           0   \n",
       "7        8  2011-01-01       1   0     1   7        0        6           0   \n",
       "8        9  2011-01-01       1   0     1   8        0        6           0   \n",
       "9       10  2011-01-01       1   0     1   9        0        6           0   \n",
       "\n",
       "   weathersit  temp   atemp   hum  windspeed  casual  registered  cnt  \n",
       "0           1  0.24  0.2879  0.81     0.0000       3          13   16  \n",
       "1           1  0.22  0.2727  0.80     0.0000       8          32   40  \n",
       "2           1  0.22  0.2727  0.80     0.0000       5          27   32  \n",
       "3           1  0.24  0.2879  0.75     0.0000       3          10   13  \n",
       "4           1  0.24  0.2879  0.75     0.0000       0           1    1  \n",
       "5           2  0.24  0.2576  0.75     0.0896       0           1    1  \n",
       "6           1  0.22  0.2727  0.80     0.0000       2           0    2  \n",
       "7           1  0.20  0.2576  0.86     0.0000       1           2    3  \n",
       "8           1  0.24  0.2879  0.75     0.0000       1           7    8  \n",
       "9           1  0.32  0.3485  0.76     0.0000       8           6   14  "
      ]
     },
     "execution_count": 2,
     "metadata": {},
     "output_type": "execute_result"
    }
   ],
   "source": [
    "bikeShareDF.head(10)"
   ]
  },
  {
   "cell_type": "markdown",
   "metadata": {},
   "source": [
    "~~Look at the dataset, and convert the columns that are categorical to a pandas “category” type.~~"
   ]
  },
  {
   "cell_type": "markdown",
   "metadata": {},
   "source": [
    "categorical-year(because they set it here with 0 and 1)season, holiday, weekday, workingday, weathersit"
   ]
  },
  {
   "cell_type": "code",
   "execution_count": 3,
   "metadata": {},
   "outputs": [
    {
     "name": "stdout",
     "output_type": "stream",
     "text": [
      "<class 'pandas.core.frame.DataFrame'>\n",
      "RangeIndex: 17379 entries, 0 to 17378\n",
      "Data columns (total 17 columns):\n",
      " #   Column      Non-Null Count  Dtype   \n",
      "---  ------      --------------  -----   \n",
      " 0   instant     17379 non-null  int64   \n",
      " 1   dteday      17379 non-null  object  \n",
      " 2   season      17379 non-null  category\n",
      " 3   yr          17379 non-null  category\n",
      " 4   mnth        17379 non-null  category\n",
      " 5   hr          17379 non-null  category\n",
      " 6   holiday     17379 non-null  category\n",
      " 7   weekday     17379 non-null  category\n",
      " 8   workingday  17379 non-null  category\n",
      " 9   weathersit  17379 non-null  category\n",
      " 10  temp        17379 non-null  float64 \n",
      " 11  atemp       17379 non-null  float64 \n",
      " 12  hum         17379 non-null  float64 \n",
      " 13  windspeed   17379 non-null  float64 \n",
      " 14  casual      17379 non-null  int64   \n",
      " 15  registered  17379 non-null  int64   \n",
      " 16  cnt         17379 non-null  int64   \n",
      "dtypes: category(8), float64(4), int64(4), object(1)\n",
      "memory usage: 1.3+ MB\n"
     ]
    }
   ],
   "source": [
    "# bikeShareDF.info()\n",
    "bikeShareDF['yr']=bikeShareDF['yr'].astype('category')\n",
    "bikeShareDF['hr']=bikeShareDF['hr'].astype('category')\n",
    "bikeShareDF['mnth']=bikeShareDF['mnth'].astype('category')\n",
    "bikeShareDF['holiday']=bikeShareDF['holiday'].astype('category')\n",
    "bikeShareDF['weekday']=bikeShareDF['weekday'].astype('category')\n",
    "bikeShareDF['workingday']=bikeShareDF['workingday'].astype('category')\n",
    "bikeShareDF['weathersit']=bikeShareDF['weathersit'].astype('category')\n",
    "bikeShareDF['season']=bikeShareDF['season'].astype('category')\n",
    "bikeShareDF.info()"
   ]
  },
  {
   "cell_type": "markdown",
   "metadata": {},
   "source": [
    "~~Look for non-null values in the dataset.~~"
   ]
  },
  {
   "cell_type": "code",
   "execution_count": 4,
   "metadata": {},
   "outputs": [
    {
     "name": "stdout",
     "output_type": "stream",
     "text": [
      "instant       0\n",
      "dteday        0\n",
      "season        0\n",
      "yr            0\n",
      "mnth          0\n",
      "hr            0\n",
      "holiday       0\n",
      "weekday       0\n",
      "workingday    0\n",
      "weathersit    0\n",
      "temp          0\n",
      "atemp         0\n",
      "hum           0\n",
      "windspeed     0\n",
      "casual        0\n",
      "registered    0\n",
      "cnt           0\n",
      "dtype: int64\n",
      "instant       17379\n",
      "dteday        17379\n",
      "season        17379\n",
      "yr            17379\n",
      "mnth          17379\n",
      "hr            17379\n",
      "holiday       17379\n",
      "weekday       17379\n",
      "workingday    17379\n",
      "weathersit    17379\n",
      "temp          17379\n",
      "atemp         17379\n",
      "hum           17379\n",
      "windspeed     17379\n",
      "casual        17379\n",
      "registered    17379\n",
      "cnt           17379\n",
      "dtype: int64\n"
     ]
    }
   ],
   "source": [
    "print(bikeShareDF.isna().sum())\n",
    "print(bikeShareDF.notnull().sum())\n",
    "##Looks like there are no null values"
   ]
  },
  {
   "cell_type": "markdown",
   "metadata": {},
   "source": [
    "~~Do a descriptive analysis of the numeric columns.~~"
   ]
  },
  {
   "cell_type": "code",
   "execution_count": 5,
   "metadata": {},
   "outputs": [
    {
     "data": {
      "text/html": [
       "<div>\n",
       "<style scoped>\n",
       "    .dataframe tbody tr th:only-of-type {\n",
       "        vertical-align: middle;\n",
       "    }\n",
       "\n",
       "    .dataframe tbody tr th {\n",
       "        vertical-align: top;\n",
       "    }\n",
       "\n",
       "    .dataframe thead th {\n",
       "        text-align: right;\n",
       "    }\n",
       "</style>\n",
       "<table border=\"1\" class=\"dataframe\">\n",
       "  <thead>\n",
       "    <tr style=\"text-align: right;\">\n",
       "      <th></th>\n",
       "      <th>instant</th>\n",
       "      <th>temp</th>\n",
       "      <th>atemp</th>\n",
       "      <th>hum</th>\n",
       "      <th>windspeed</th>\n",
       "      <th>casual</th>\n",
       "      <th>registered</th>\n",
       "      <th>cnt</th>\n",
       "    </tr>\n",
       "  </thead>\n",
       "  <tbody>\n",
       "    <tr>\n",
       "      <th>count</th>\n",
       "      <td>17379.0000</td>\n",
       "      <td>17379.000000</td>\n",
       "      <td>17379.000000</td>\n",
       "      <td>17379.000000</td>\n",
       "      <td>17379.000000</td>\n",
       "      <td>17379.000000</td>\n",
       "      <td>17379.000000</td>\n",
       "      <td>17379.000000</td>\n",
       "    </tr>\n",
       "    <tr>\n",
       "      <th>mean</th>\n",
       "      <td>8690.0000</td>\n",
       "      <td>0.496987</td>\n",
       "      <td>0.475775</td>\n",
       "      <td>0.627229</td>\n",
       "      <td>0.190098</td>\n",
       "      <td>35.676218</td>\n",
       "      <td>153.786869</td>\n",
       "      <td>189.463088</td>\n",
       "    </tr>\n",
       "    <tr>\n",
       "      <th>std</th>\n",
       "      <td>5017.0295</td>\n",
       "      <td>0.192556</td>\n",
       "      <td>0.171850</td>\n",
       "      <td>0.192930</td>\n",
       "      <td>0.122340</td>\n",
       "      <td>49.305030</td>\n",
       "      <td>151.357286</td>\n",
       "      <td>181.387599</td>\n",
       "    </tr>\n",
       "    <tr>\n",
       "      <th>min</th>\n",
       "      <td>1.0000</td>\n",
       "      <td>0.020000</td>\n",
       "      <td>0.000000</td>\n",
       "      <td>0.000000</td>\n",
       "      <td>0.000000</td>\n",
       "      <td>0.000000</td>\n",
       "      <td>0.000000</td>\n",
       "      <td>1.000000</td>\n",
       "    </tr>\n",
       "    <tr>\n",
       "      <th>25%</th>\n",
       "      <td>4345.5000</td>\n",
       "      <td>0.340000</td>\n",
       "      <td>0.333300</td>\n",
       "      <td>0.480000</td>\n",
       "      <td>0.104500</td>\n",
       "      <td>4.000000</td>\n",
       "      <td>34.000000</td>\n",
       "      <td>40.000000</td>\n",
       "    </tr>\n",
       "    <tr>\n",
       "      <th>50%</th>\n",
       "      <td>8690.0000</td>\n",
       "      <td>0.500000</td>\n",
       "      <td>0.484800</td>\n",
       "      <td>0.630000</td>\n",
       "      <td>0.194000</td>\n",
       "      <td>17.000000</td>\n",
       "      <td>115.000000</td>\n",
       "      <td>142.000000</td>\n",
       "    </tr>\n",
       "    <tr>\n",
       "      <th>75%</th>\n",
       "      <td>13034.5000</td>\n",
       "      <td>0.660000</td>\n",
       "      <td>0.621200</td>\n",
       "      <td>0.780000</td>\n",
       "      <td>0.253700</td>\n",
       "      <td>48.000000</td>\n",
       "      <td>220.000000</td>\n",
       "      <td>281.000000</td>\n",
       "    </tr>\n",
       "    <tr>\n",
       "      <th>max</th>\n",
       "      <td>17379.0000</td>\n",
       "      <td>1.000000</td>\n",
       "      <td>1.000000</td>\n",
       "      <td>1.000000</td>\n",
       "      <td>0.850700</td>\n",
       "      <td>367.000000</td>\n",
       "      <td>886.000000</td>\n",
       "      <td>977.000000</td>\n",
       "    </tr>\n",
       "  </tbody>\n",
       "</table>\n",
       "</div>"
      ],
      "text/plain": [
       "          instant          temp         atemp           hum     windspeed  \\\n",
       "count  17379.0000  17379.000000  17379.000000  17379.000000  17379.000000   \n",
       "mean    8690.0000      0.496987      0.475775      0.627229      0.190098   \n",
       "std     5017.0295      0.192556      0.171850      0.192930      0.122340   \n",
       "min        1.0000      0.020000      0.000000      0.000000      0.000000   \n",
       "25%     4345.5000      0.340000      0.333300      0.480000      0.104500   \n",
       "50%     8690.0000      0.500000      0.484800      0.630000      0.194000   \n",
       "75%    13034.5000      0.660000      0.621200      0.780000      0.253700   \n",
       "max    17379.0000      1.000000      1.000000      1.000000      0.850700   \n",
       "\n",
       "             casual    registered           cnt  \n",
       "count  17379.000000  17379.000000  17379.000000  \n",
       "mean      35.676218    153.786869    189.463088  \n",
       "std       49.305030    151.357286    181.387599  \n",
       "min        0.000000      0.000000      1.000000  \n",
       "25%        4.000000     34.000000     40.000000  \n",
       "50%       17.000000    115.000000    142.000000  \n",
       "75%       48.000000    220.000000    281.000000  \n",
       "max      367.000000    886.000000    977.000000  "
      ]
     },
     "execution_count": 5,
     "metadata": {},
     "output_type": "execute_result"
    }
   ],
   "source": [
    "bikeShareDF.describe()"
   ]
  },
  {
   "cell_type": "markdown",
   "metadata": {},
   "source": [
    "~~Implement a bar plot of cnt versus season. Document which season has the most bike rides and which season has the least.~~"
   ]
  },
  {
   "cell_type": "code",
   "execution_count": 6,
   "metadata": {
    "scrolled": true
   },
   "outputs": [
    {
     "data": {
      "text/plain": [
       "<matplotlib.axes._subplots.AxesSubplot at 0x7f1b91aacb00>"
      ]
     },
     "execution_count": 6,
     "metadata": {},
     "output_type": "execute_result"
    }
   ],
   "source": [
    "import seaborn as sns\n",
    "import matplotlib.pyplot as plt\n",
    "# sns.set_style(\"darkgrid\")\n",
    "sns.barplot(x=\"season\", y=\"cnt\", data=bikeShareDF)\n",
    "# Season 1 has the least and season 3 has the most."
   ]
  },
  {
   "cell_type": "markdown",
   "metadata": {},
   "source": [
    "~~Implement a bar chart for working day versus count. Document how bike rides are distributed across these two classes.~~"
   ]
  },
  {
   "cell_type": "code",
   "execution_count": 7,
   "metadata": {
    "scrolled": true
   },
   "outputs": [
    {
     "data": {
      "text/plain": [
       "<matplotlib.axes._subplots.AxesSubplot at 0x7f1b8f9e2710>"
      ]
     },
     "execution_count": 7,
     "metadata": {},
     "output_type": "execute_result"
    },
    {
     "data": {
      "image/png": "[encoded data removed]",
      "text/plain": [
       "<Figure size 432x288 with 1 Axes>"
      ]
     },
     "metadata": {
      "needs_background": "light"
     },
     "output_type": "display_data"
    }
   ],
   "source": [
    "sns.barplot(x=\"workingday\", y=\"cnt\", data=bikeShareDF)\n",
    "#It appears that working day has a slight edge on the amount of people using the bike share. \n",
    "#But overall closer than I would have thought"
   ]
  },
  {
   "cell_type": "markdown",
   "metadata": {},
   "source": [
    "~~Implement a bar chart for month versus count. Document which months have the most bike rides.~~"
   ]
  },
  {
   "cell_type": "code",
   "execution_count": 8,
   "metadata": {},
   "outputs": [
    {
     "data": {
      "text/plain": [
       "<matplotlib.axes._subplots.AxesSubplot at 0x7f1b8f952048>"
      ]
     },
     "execution_count": 8,
     "metadata": {},
     "output_type": "execute_result"
    },
    {
     "data": {
      "image/png": "[encoded data removed]",
      "text/plain": [
       "<Figure size 432x288 with 1 Axes>"
      ]
     },
     "metadata": {
      "needs_background": "light"
     },
     "output_type": "display_data"
    }
   ],
   "source": [
    "sns.barplot(x=\"mnth\", y=\"cnt\", data=bikeShareDF)\n",
    "#Looks like September or June has the most. January has the least."
   ]
  },
  {
   "cell_type": "markdown",
   "metadata": {},
   "source": [
    "~~Implement code to figure out which months belong to which seasons.~~"
   ]
  },
  {
   "cell_type": "code",
   "execution_count": 9,
   "metadata": {},
   "outputs": [
    {
     "name": "stdout",
     "output_type": "stream",
     "text": [
      "season  mnth\n",
      "1       1       1429\n",
      "        2       1341\n",
      "        3        949\n",
      "        12       523\n",
      "2       5       1488\n",
      "        4       1437\n",
      "        6        960\n",
      "        3        524\n",
      "3       7       1488\n",
      "        8       1475\n",
      "        9       1053\n",
      "        6        480\n",
      "4       10      1451\n",
      "        11      1437\n",
      "        12       960\n",
      "        9        384\n",
      "Name: mnth, dtype: int64\n",
      "season\n",
      "1    [1, 2, 3, 12]\n",
      "Categories (4, int64): [1, 2, 3,...\n",
      "2     [3, 4, 5, 6]\n",
      "Categories (4, int64): [3, 4, 5, 6]\n",
      "3     [6, 7, 8, 9]\n",
      "Categories (4, int64): [6, 7, 8, 9]\n",
      "4    [9, 10, 11, 12]\n",
      "Categories (4, int64): [9, 10,...\n",
      "Name: mnth, dtype: object\n"
     ]
    }
   ],
   "source": [
    "print(bikeShareDF.groupby(['season'])['mnth'].value_counts())\n",
    "print(bikeShareDF.groupby(['season'])['mnth'].unique())\n"
   ]
  },
  {
   "cell_type": "markdown",
   "metadata": {},
   "source": [
    "~~Implement a bar plot of weathersit versus cnt. Document which weather situation has less bike rentals.~~"
   ]
  },
  {
   "cell_type": "code",
   "execution_count": 10,
   "metadata": {
    "scrolled": true
   },
   "outputs": [
    {
     "data": {
      "text/plain": [
       "<matplotlib.axes._subplots.AxesSubplot at 0x7f1b8f8eb208>"
      ]
     },
     "execution_count": 10,
     "metadata": {},
     "output_type": "execute_result"
    },
    {
     "data": {
      "image/png": "[encoded data removed]",
      "text/plain": [
       "<Figure size 432x288 with 1 Axes>"
      ]
     },
     "metadata": {
      "needs_background": "light"
     },
     "output_type": "display_data"
    }
   ],
   "source": [
    "sns.barplot(x=\"weathersit\", y=\"cnt\", data=bikeShareDF)\n",
    "#It looks like the weathersit 4 has the least bike rentals. While the error bar is significant here \n",
    "#it's overall count is less"
   ]
  },
  {
   "cell_type": "code",
   "execution_count": 11,
   "metadata": {},
   "outputs": [],
   "source": [
    "# sns.countplot(x=\"weathersit\", data=bikeShareDF)"
   ]
  },
  {
   "cell_type": "markdown",
   "metadata": {},
   "source": [
    "~~Implement a point plot of weathersit on the x-axis, count on the y-axis, and the season as the hue. Document how season and weathersit are related.~~"
   ]
  },
  {
   "cell_type": "code",
   "execution_count": 12,
   "metadata": {},
   "outputs": [],
   "source": [
    "# sns.catplot(x='weathersit', hue='season', kind='count', data=bikeShareDF)"
   ]
  },
  {
   "cell_type": "code",
   "execution_count": 13,
   "metadata": {},
   "outputs": [
    {
     "data": {
      "text/plain": [
       "<seaborn.axisgrid.FacetGrid at 0x7f1b8f8d3240>"
      ]
     },
     "execution_count": 13,
     "metadata": {},
     "output_type": "execute_result"
    },
    {
     "data": {
      "image/png": "[encoded data removed]",
      "text/plain": [
       "<Figure size 403.125x360 with 1 Axes>"
      ]
     },
     "metadata": {
      "needs_background": "light"
     },
     "output_type": "display_data"
    }
   ],
   "source": [
    "# sns.scatterplot(x='weathersit', y='cnt', hue='season', data=bikeShareDF)\n",
    "sns.catplot(x='weathersit', y='cnt', hue='season', kind='point',data=bikeShareDF)\n",
    "## It seems that season one gets to weathersit 4(the heaviest or worst). Also, that the counts of users went down\n",
    "## as the weathersit increased in bad conditions. -With the odd exception of season 1 going up a little to \n",
    "## weathersit4 from weather3"
   ]
  },
  {
   "cell_type": "markdown",
   "metadata": {},
   "source": [
    "~~Implement a bar plot of hour versus count. Are there any specific hours that are busier than others?~~"
   ]
  },
  {
   "cell_type": "code",
   "execution_count": 14,
   "metadata": {},
   "outputs": [
    {
     "data": {
      "text/plain": [
       "<matplotlib.axes._subplots.AxesSubplot at 0x7f1b8f404fd0>"
      ]
     },
     "execution_count": 14,
     "metadata": {},
     "output_type": "execute_result"
    },
    {
     "data": {
      "image/png": "[encoded data removed]",
      "text/plain": [
       "<Figure size 432x288 with 1 Axes>"
      ]
     },
     "metadata": {
      "needs_background": "light"
     },
     "output_type": "display_data"
    }
   ],
   "source": [
    "sns.barplot(x='hr', y='cnt', data=bikeShareDF)\n",
    "## It appears that hours 8,5p(17) and 6p(18) are the busiest. Which would make sense\n",
    "## if we are dealing with commuters. That is more users around the start of the work\n",
    "## day and then at the end of an 8 hour shift."
   ]
  },
  {
   "cell_type": "markdown",
   "metadata": {},
   "source": [
    "~~Implement a bar plot of hour versus count on weekends and holidays (when workingday = 0). Does the hourly trend change on weekends?~~"
   ]
  },
  {
   "cell_type": "code",
   "execution_count": 15,
   "metadata": {},
   "outputs": [
    {
     "data": {
      "text/plain": [
       "<matplotlib.axes._subplots.AxesSubplot at 0x7f1b8f68b550>"
      ]
     },
     "execution_count": 15,
     "metadata": {},
     "output_type": "execute_result"
    },
    {
     "data": {
      "image/png": "[encoded data removed]",
      "text/plain": [
       "<Figure size 432x288 with 1 Axes>"
      ]
     },
     "metadata": {
      "needs_background": "light"
     },
     "output_type": "display_data"
    }
   ],
   "source": [
    "sns.barplot(x='hr', y='cnt',hue='workingday', data=bikeShareDF)\n",
    "## Yes the hourly trend changes drastically between working days and not (holidays and weekends)\n",
    "## The start and end of the work days are still spiking at 8, 5 and 6. But then for the \n",
    "## weekends, mid day hours are stronger. As if suggesting people sleep in or something\n",
    "## then and go out to use the bikes midday."
   ]
  },
  {
   "cell_type": "markdown",
   "metadata": {},
   "source": [
    "# Assignment 4, Part 2: Data Preparation\n",
    "- ❌Implement and graph a correlation matrix with the remaining numeric features. Any interesting relationships?\n",
    "- ❌Scale the numerical features using StandardScaler(), and replace the original columns in your dataframe.\n",
    "- ❌Drop the following columns from your dataset: casual, registered, dteday, instant.\n",
    "- ❌Implement a histogram of the count column. What can be said based on the resulting distribution?  \n",
    "- ❌Implement a train/test split with a test size of 33%.\n",
    "- ❓❌Implement a baseline linear regression algorithm. Use cross-validation to output r2 and mse. Calculate RMSE base on mse. Document your scores."
   ]
  },
  {
   "cell_type": "markdown",
   "metadata": {},
   "source": [
    "~~Implement and graph a correlation matrix with the remaining numeric features. Any interesting relationships?~~"
   ]
  },
  {
   "cell_type": "code",
   "execution_count": 16,
   "metadata": {},
   "outputs": [
    {
     "data": {
      "text/html": [
       "<div>\n",
       "<style scoped>\n",
       "    .dataframe tbody tr th:only-of-type {\n",
       "        vertical-align: middle;\n",
       "    }\n",
       "\n",
       "    .dataframe tbody tr th {\n",
       "        vertical-align: top;\n",
       "    }\n",
       "\n",
       "    .dataframe thead th {\n",
       "        text-align: right;\n",
       "    }\n",
       "</style>\n",
       "<table border=\"1\" class=\"dataframe\">\n",
       "  <thead>\n",
       "    <tr style=\"text-align: right;\">\n",
       "      <th></th>\n",
       "      <th>instant</th>\n",
       "      <th>temp</th>\n",
       "      <th>atemp</th>\n",
       "      <th>hum</th>\n",
       "      <th>windspeed</th>\n",
       "      <th>casual</th>\n",
       "      <th>registered</th>\n",
       "      <th>cnt</th>\n",
       "    </tr>\n",
       "  </thead>\n",
       "  <tbody>\n",
       "    <tr>\n",
       "      <th>instant</th>\n",
       "      <td>1.000000</td>\n",
       "      <td>0.136178</td>\n",
       "      <td>0.137615</td>\n",
       "      <td>0.009577</td>\n",
       "      <td>-0.074505</td>\n",
       "      <td>0.158295</td>\n",
       "      <td>0.282046</td>\n",
       "      <td>0.278379</td>\n",
       "    </tr>\n",
       "    <tr>\n",
       "      <th>temp</th>\n",
       "      <td>0.136178</td>\n",
       "      <td>1.000000</td>\n",
       "      <td>0.987672</td>\n",
       "      <td>-0.069881</td>\n",
       "      <td>-0.023125</td>\n",
       "      <td>0.459616</td>\n",
       "      <td>0.335361</td>\n",
       "      <td>0.404772</td>\n",
       "    </tr>\n",
       "    <tr>\n",
       "      <th>atemp</th>\n",
       "      <td>0.137615</td>\n",
       "      <td>0.987672</td>\n",
       "      <td>1.000000</td>\n",
       "      <td>-0.051918</td>\n",
       "      <td>-0.062336</td>\n",
       "      <td>0.454080</td>\n",
       "      <td>0.332559</td>\n",
       "      <td>0.400929</td>\n",
       "    </tr>\n",
       "    <tr>\n",
       "      <th>hum</th>\n",
       "      <td>0.009577</td>\n",
       "      <td>-0.069881</td>\n",
       "      <td>-0.051918</td>\n",
       "      <td>1.000000</td>\n",
       "      <td>-0.290105</td>\n",
       "      <td>-0.347028</td>\n",
       "      <td>-0.273933</td>\n",
       "      <td>-0.322911</td>\n",
       "    </tr>\n",
       "    <tr>\n",
       "      <th>windspeed</th>\n",
       "      <td>-0.074505</td>\n",
       "      <td>-0.023125</td>\n",
       "      <td>-0.062336</td>\n",
       "      <td>-0.290105</td>\n",
       "      <td>1.000000</td>\n",
       "      <td>0.090287</td>\n",
       "      <td>0.082321</td>\n",
       "      <td>0.093234</td>\n",
       "    </tr>\n",
       "    <tr>\n",
       "      <th>casual</th>\n",
       "      <td>0.158295</td>\n",
       "      <td>0.459616</td>\n",
       "      <td>0.454080</td>\n",
       "      <td>-0.347028</td>\n",
       "      <td>0.090287</td>\n",
       "      <td>1.000000</td>\n",
       "      <td>0.506618</td>\n",
       "      <td>0.694564</td>\n",
       "    </tr>\n",
       "    <tr>\n",
       "      <th>registered</th>\n",
       "      <td>0.282046</td>\n",
       "      <td>0.335361</td>\n",
       "      <td>0.332559</td>\n",
       "      <td>-0.273933</td>\n",
       "      <td>0.082321</td>\n",
       "      <td>0.506618</td>\n",
       "      <td>1.000000</td>\n",
       "      <td>0.972151</td>\n",
       "    </tr>\n",
       "    <tr>\n",
       "      <th>cnt</th>\n",
       "      <td>0.278379</td>\n",
       "      <td>0.404772</td>\n",
       "      <td>0.400929</td>\n",
       "      <td>-0.322911</td>\n",
       "      <td>0.093234</td>\n",
       "      <td>0.694564</td>\n",
       "      <td>0.972151</td>\n",
       "      <td>1.000000</td>\n",
       "    </tr>\n",
       "  </tbody>\n",
       "</table>\n",
       "</div>"
      ],
      "text/plain": [
       "             instant      temp     atemp       hum  windspeed    casual  \\\n",
       "instant     1.000000  0.136178  0.137615  0.009577  -0.074505  0.158295   \n",
       "temp        0.136178  1.000000  0.987672 -0.069881  -0.023125  0.459616   \n",
       "atemp       0.137615  0.987672  1.000000 -0.051918  -0.062336  0.454080   \n",
       "hum         0.009577 -0.069881 -0.051918  1.000000  -0.290105 -0.347028   \n",
       "windspeed  -0.074505 -0.023125 -0.062336 -0.290105   1.000000  0.090287   \n",
       "casual      0.158295  0.459616  0.454080 -0.347028   0.090287  1.000000   \n",
       "registered  0.282046  0.335361  0.332559 -0.273933   0.082321  0.506618   \n",
       "cnt         0.278379  0.404772  0.400929 -0.322911   0.093234  0.694564   \n",
       "\n",
       "            registered       cnt  \n",
       "instant       0.282046  0.278379  \n",
       "temp          0.335361  0.404772  \n",
       "atemp         0.332559  0.400929  \n",
       "hum          -0.273933 -0.322911  \n",
       "windspeed     0.082321  0.093234  \n",
       "casual        0.506618  0.694564  \n",
       "registered    1.000000  0.972151  \n",
       "cnt           0.972151  1.000000  "
      ]
     },
     "execution_count": 16,
     "metadata": {},
     "output_type": "execute_result"
    }
   ],
   "source": [
    "corr_matrix = bikeShareDF.corr()\n",
    "corr_matrix"
   ]
  },
  {
   "cell_type": "code",
   "execution_count": 17,
   "metadata": {},
   "outputs": [
    {
     "data": {
      "text/plain": [
       "<matplotlib.axes._subplots.AxesSubplot at 0x7f1b8f55df60>"
      ]
     },
     "execution_count": 17,
     "metadata": {},
     "output_type": "execute_result"
    },
    {
     "data": {
      "image/png": "[encoded data removed]",
      "text/plain": [
       "<Figure size 720x720 with 2 Axes>"
      ]
     },
     "metadata": {
      "needs_background": "light"
     },
     "output_type": "display_data"
    }
   ],
   "source": [
    "# corr_matrix = bikeShareDF.corr()\n",
    "# corr_matrix\n",
    "plt.figure(figsize=(10,10))\n",
    "# fig, ax = plt.subplot\n",
    "sns.heatmap(corr_matrix, annot=True)\n",
    "# plt.show()\n",
    "## The most correlated relationships look like registered to count (.97) and then casual\n",
    "## users are next at .69. Of course the temp and atemp are very close but that seems \n",
    "## almost a given.\n",
    "## Otherwise, I'm not seeing too many correlations. Most relationships are less than .5"
   ]
  },
  {
   "cell_type": "markdown",
   "metadata": {},
   "source": [
    "Scale the numerical features using StandardScaler(), and replace the original columns in your dataframe."
   ]
  },
  {
   "cell_type": "code",
   "execution_count": 18,
   "metadata": {},
   "outputs": [
    {
     "data": {
      "text/html": [
       "<div>\n",
       "<style scoped>\n",
       "    .dataframe tbody tr th:only-of-type {\n",
       "        vertical-align: middle;\n",
       "    }\n",
       "\n",
       "    .dataframe tbody tr th {\n",
       "        vertical-align: top;\n",
       "    }\n",
       "\n",
       "    .dataframe thead th {\n",
       "        text-align: right;\n",
       "    }\n",
       "</style>\n",
       "<table border=\"1\" class=\"dataframe\">\n",
       "  <thead>\n",
       "    <tr style=\"text-align: right;\">\n",
       "      <th></th>\n",
       "      <th>instant</th>\n",
       "      <th>dteday</th>\n",
       "      <th>season</th>\n",
       "      <th>yr</th>\n",
       "      <th>mnth</th>\n",
       "      <th>hr</th>\n",
       "      <th>holiday</th>\n",
       "      <th>weekday</th>\n",
       "      <th>workingday</th>\n",
       "      <th>weathersit</th>\n",
       "      <th>temp</th>\n",
       "      <th>atemp</th>\n",
       "      <th>hum</th>\n",
       "      <th>windspeed</th>\n",
       "      <th>casual</th>\n",
       "      <th>registered</th>\n",
       "      <th>cnt</th>\n",
       "    </tr>\n",
       "  </thead>\n",
       "  <tbody>\n",
       "    <tr>\n",
       "      <th>0</th>\n",
       "      <td>1</td>\n",
       "      <td>2011-01-01</td>\n",
       "      <td>1</td>\n",
       "      <td>0</td>\n",
       "      <td>1</td>\n",
       "      <td>0</td>\n",
       "      <td>0</td>\n",
       "      <td>6</td>\n",
       "      <td>0</td>\n",
       "      <td>1</td>\n",
       "      <td>-1.334648</td>\n",
       "      <td>-1.093281</td>\n",
       "      <td>0.947372</td>\n",
       "      <td>-1.553889</td>\n",
       "      <td>-0.662755</td>\n",
       "      <td>-0.930189</td>\n",
       "      <td>16</td>\n",
       "    </tr>\n",
       "    <tr>\n",
       "      <th>1</th>\n",
       "      <td>2</td>\n",
       "      <td>2011-01-01</td>\n",
       "      <td>1</td>\n",
       "      <td>0</td>\n",
       "      <td>1</td>\n",
       "      <td>1</td>\n",
       "      <td>0</td>\n",
       "      <td>6</td>\n",
       "      <td>0</td>\n",
       "      <td>1</td>\n",
       "      <td>-1.438516</td>\n",
       "      <td>-1.181732</td>\n",
       "      <td>0.895539</td>\n",
       "      <td>-1.553889</td>\n",
       "      <td>-0.561343</td>\n",
       "      <td>-0.804655</td>\n",
       "      <td>40</td>\n",
       "    </tr>\n",
       "    <tr>\n",
       "      <th>2</th>\n",
       "      <td>3</td>\n",
       "      <td>2011-01-01</td>\n",
       "      <td>1</td>\n",
       "      <td>0</td>\n",
       "      <td>1</td>\n",
       "      <td>2</td>\n",
       "      <td>0</td>\n",
       "      <td>6</td>\n",
       "      <td>0</td>\n",
       "      <td>1</td>\n",
       "      <td>-1.438516</td>\n",
       "      <td>-1.181732</td>\n",
       "      <td>0.895539</td>\n",
       "      <td>-1.553889</td>\n",
       "      <td>-0.622190</td>\n",
       "      <td>-0.837690</td>\n",
       "      <td>32</td>\n",
       "    </tr>\n",
       "    <tr>\n",
       "      <th>3</th>\n",
       "      <td>4</td>\n",
       "      <td>2011-01-01</td>\n",
       "      <td>1</td>\n",
       "      <td>0</td>\n",
       "      <td>1</td>\n",
       "      <td>3</td>\n",
       "      <td>0</td>\n",
       "      <td>6</td>\n",
       "      <td>0</td>\n",
       "      <td>1</td>\n",
       "      <td>-1.334648</td>\n",
       "      <td>-1.093281</td>\n",
       "      <td>0.636370</td>\n",
       "      <td>-1.553889</td>\n",
       "      <td>-0.662755</td>\n",
       "      <td>-0.950010</td>\n",
       "      <td>13</td>\n",
       "    </tr>\n",
       "    <tr>\n",
       "      <th>4</th>\n",
       "      <td>5</td>\n",
       "      <td>2011-01-01</td>\n",
       "      <td>1</td>\n",
       "      <td>0</td>\n",
       "      <td>1</td>\n",
       "      <td>4</td>\n",
       "      <td>0</td>\n",
       "      <td>6</td>\n",
       "      <td>0</td>\n",
       "      <td>1</td>\n",
       "      <td>-1.334648</td>\n",
       "      <td>-1.093281</td>\n",
       "      <td>0.636370</td>\n",
       "      <td>-1.553889</td>\n",
       "      <td>-0.723603</td>\n",
       "      <td>-1.009474</td>\n",
       "      <td>1</td>\n",
       "    </tr>\n",
       "    <tr>\n",
       "      <th>5</th>\n",
       "      <td>6</td>\n",
       "      <td>2011-01-01</td>\n",
       "      <td>1</td>\n",
       "      <td>0</td>\n",
       "      <td>1</td>\n",
       "      <td>5</td>\n",
       "      <td>0</td>\n",
       "      <td>6</td>\n",
       "      <td>0</td>\n",
       "      <td>2</td>\n",
       "      <td>-1.334648</td>\n",
       "      <td>-1.269602</td>\n",
       "      <td>0.636370</td>\n",
       "      <td>-0.821484</td>\n",
       "      <td>-0.723603</td>\n",
       "      <td>-1.009474</td>\n",
       "      <td>1</td>\n",
       "    </tr>\n",
       "    <tr>\n",
       "      <th>6</th>\n",
       "      <td>7</td>\n",
       "      <td>2011-01-01</td>\n",
       "      <td>1</td>\n",
       "      <td>0</td>\n",
       "      <td>1</td>\n",
       "      <td>6</td>\n",
       "      <td>0</td>\n",
       "      <td>6</td>\n",
       "      <td>0</td>\n",
       "      <td>1</td>\n",
       "      <td>-1.438516</td>\n",
       "      <td>-1.181732</td>\n",
       "      <td>0.895539</td>\n",
       "      <td>-1.553889</td>\n",
       "      <td>-0.683038</td>\n",
       "      <td>-1.016081</td>\n",
       "      <td>2</td>\n",
       "    </tr>\n",
       "    <tr>\n",
       "      <th>7</th>\n",
       "      <td>8</td>\n",
       "      <td>2011-01-01</td>\n",
       "      <td>1</td>\n",
       "      <td>0</td>\n",
       "      <td>1</td>\n",
       "      <td>7</td>\n",
       "      <td>0</td>\n",
       "      <td>6</td>\n",
       "      <td>0</td>\n",
       "      <td>1</td>\n",
       "      <td>-1.542385</td>\n",
       "      <td>-1.269602</td>\n",
       "      <td>1.206542</td>\n",
       "      <td>-1.553889</td>\n",
       "      <td>-0.703320</td>\n",
       "      <td>-1.002867</td>\n",
       "      <td>3</td>\n",
       "    </tr>\n",
       "    <tr>\n",
       "      <th>8</th>\n",
       "      <td>9</td>\n",
       "      <td>2011-01-01</td>\n",
       "      <td>1</td>\n",
       "      <td>0</td>\n",
       "      <td>1</td>\n",
       "      <td>8</td>\n",
       "      <td>0</td>\n",
       "      <td>6</td>\n",
       "      <td>0</td>\n",
       "      <td>1</td>\n",
       "      <td>-1.334648</td>\n",
       "      <td>-1.093281</td>\n",
       "      <td>0.636370</td>\n",
       "      <td>-1.553889</td>\n",
       "      <td>-0.703320</td>\n",
       "      <td>-0.969832</td>\n",
       "      <td>8</td>\n",
       "    </tr>\n",
       "    <tr>\n",
       "      <th>9</th>\n",
       "      <td>10</td>\n",
       "      <td>2011-01-01</td>\n",
       "      <td>1</td>\n",
       "      <td>0</td>\n",
       "      <td>1</td>\n",
       "      <td>9</td>\n",
       "      <td>0</td>\n",
       "      <td>6</td>\n",
       "      <td>0</td>\n",
       "      <td>1</td>\n",
       "      <td>-0.919172</td>\n",
       "      <td>-0.740638</td>\n",
       "      <td>0.688203</td>\n",
       "      <td>-1.553889</td>\n",
       "      <td>-0.561343</td>\n",
       "      <td>-0.976439</td>\n",
       "      <td>14</td>\n",
       "    </tr>\n",
       "  </tbody>\n",
       "</table>\n",
       "</div>"
      ],
      "text/plain": [
       "   instant      dteday season yr mnth hr holiday weekday workingday  \\\n",
       "0        1  2011-01-01      1  0    1  0       0       6          0   \n",
       "1        2  2011-01-01      1  0    1  1       0       6          0   \n",
       "2        3  2011-01-01      1  0    1  2       0       6          0   \n",
       "3        4  2011-01-01      1  0    1  3       0       6          0   \n",
       "4        5  2011-01-01      1  0    1  4       0       6          0   \n",
       "5        6  2011-01-01      1  0    1  5       0       6          0   \n",
       "6        7  2011-01-01      1  0    1  6       0       6          0   \n",
       "7        8  2011-01-01      1  0    1  7       0       6          0   \n",
       "8        9  2011-01-01      1  0    1  8       0       6          0   \n",
       "9       10  2011-01-01      1  0    1  9       0       6          0   \n",
       "\n",
       "  weathersit      temp     atemp       hum  windspeed    casual  registered  \\\n",
       "0          1 -1.334648 -1.093281  0.947372  -1.553889 -0.662755   -0.930189   \n",
       "1          1 -1.438516 -1.181732  0.895539  -1.553889 -0.561343   -0.804655   \n",
       "2          1 -1.438516 -1.181732  0.895539  -1.553889 -0.622190   -0.837690   \n",
       "3          1 -1.334648 -1.093281  0.636370  -1.553889 -0.662755   -0.950010   \n",
       "4          1 -1.334648 -1.093281  0.636370  -1.553889 -0.723603   -1.009474   \n",
       "5          2 -1.334648 -1.269602  0.636370  -0.821484 -0.723603   -1.009474   \n",
       "6          1 -1.438516 -1.181732  0.895539  -1.553889 -0.683038   -1.016081   \n",
       "7          1 -1.542385 -1.269602  1.206542  -1.553889 -0.703320   -1.002867   \n",
       "8          1 -1.334648 -1.093281  0.636370  -1.553889 -0.703320   -0.969832   \n",
       "9          1 -0.919172 -0.740638  0.688203  -1.553889 -0.561343   -0.976439   \n",
       "\n",
       "   cnt  \n",
       "0   16  \n",
       "1   40  \n",
       "2   32  \n",
       "3   13  \n",
       "4    1  \n",
       "5    1  \n",
       "6    2  \n",
       "7    3  \n",
       "8    8  \n",
       "9   14  "
      ]
     },
     "execution_count": 18,
     "metadata": {},
     "output_type": "execute_result"
    }
   ],
   "source": [
    "from sklearn.preprocessing import StandardScaler\n",
    "scaler=StandardScaler()\n",
    "# num_columns=bikeShareDF.columns[bikeShareDF.dtypes.apply(lambda x: np.issubdtype(x, np.number))]\n",
    "##left out the 'cnt' as in some research it talked about not scaling the target variable.\n",
    "num_columns=['temp','atemp','hum','windspeed','casual','registered']\n",
    "\n",
    "# scaler.fit_transform(bikeShareDF)\n",
    "bikeShareDF[num_columns] = scaler.fit_transform(bikeShareDF[num_columns])\n",
    "\n",
    "bikeShareDF.head(10)"
   ]
  },
  {
   "cell_type": "markdown",
   "metadata": {},
   "source": [
    "~~Drop the following columns from your dataset: casual, registered, dteday, instant.~~"
   ]
  },
  {
   "cell_type": "code",
   "execution_count": 19,
   "metadata": {},
   "outputs": [
    {
     "data": {
      "text/html": [
       "<div>\n",
       "<style scoped>\n",
       "    .dataframe tbody tr th:only-of-type {\n",
       "        vertical-align: middle;\n",
       "    }\n",
       "\n",
       "    .dataframe tbody tr th {\n",
       "        vertical-align: top;\n",
       "    }\n",
       "\n",
       "    .dataframe thead th {\n",
       "        text-align: right;\n",
       "    }\n",
       "</style>\n",
       "<table border=\"1\" class=\"dataframe\">\n",
       "  <thead>\n",
       "    <tr style=\"text-align: right;\">\n",
       "      <th></th>\n",
       "      <th>season</th>\n",
       "      <th>yr</th>\n",
       "      <th>mnth</th>\n",
       "      <th>hr</th>\n",
       "      <th>holiday</th>\n",
       "      <th>weekday</th>\n",
       "      <th>workingday</th>\n",
       "      <th>weathersit</th>\n",
       "      <th>temp</th>\n",
       "      <th>atemp</th>\n",
       "      <th>hum</th>\n",
       "      <th>windspeed</th>\n",
       "      <th>cnt</th>\n",
       "    </tr>\n",
       "  </thead>\n",
       "  <tbody>\n",
       "    <tr>\n",
       "      <th>0</th>\n",
       "      <td>1</td>\n",
       "      <td>0</td>\n",
       "      <td>1</td>\n",
       "      <td>0</td>\n",
       "      <td>0</td>\n",
       "      <td>6</td>\n",
       "      <td>0</td>\n",
       "      <td>1</td>\n",
       "      <td>-1.334648</td>\n",
       "      <td>-1.093281</td>\n",
       "      <td>0.947372</td>\n",
       "      <td>-1.553889</td>\n",
       "      <td>16</td>\n",
       "    </tr>\n",
       "    <tr>\n",
       "      <th>1</th>\n",
       "      <td>1</td>\n",
       "      <td>0</td>\n",
       "      <td>1</td>\n",
       "      <td>1</td>\n",
       "      <td>0</td>\n",
       "      <td>6</td>\n",
       "      <td>0</td>\n",
       "      <td>1</td>\n",
       "      <td>-1.438516</td>\n",
       "      <td>-1.181732</td>\n",
       "      <td>0.895539</td>\n",
       "      <td>-1.553889</td>\n",
       "      <td>40</td>\n",
       "    </tr>\n",
       "    <tr>\n",
       "      <th>2</th>\n",
       "      <td>1</td>\n",
       "      <td>0</td>\n",
       "      <td>1</td>\n",
       "      <td>2</td>\n",
       "      <td>0</td>\n",
       "      <td>6</td>\n",
       "      <td>0</td>\n",
       "      <td>1</td>\n",
       "      <td>-1.438516</td>\n",
       "      <td>-1.181732</td>\n",
       "      <td>0.895539</td>\n",
       "      <td>-1.553889</td>\n",
       "      <td>32</td>\n",
       "    </tr>\n",
       "    <tr>\n",
       "      <th>3</th>\n",
       "      <td>1</td>\n",
       "      <td>0</td>\n",
       "      <td>1</td>\n",
       "      <td>3</td>\n",
       "      <td>0</td>\n",
       "      <td>6</td>\n",
       "      <td>0</td>\n",
       "      <td>1</td>\n",
       "      <td>-1.334648</td>\n",
       "      <td>-1.093281</td>\n",
       "      <td>0.636370</td>\n",
       "      <td>-1.553889</td>\n",
       "      <td>13</td>\n",
       "    </tr>\n",
       "    <tr>\n",
       "      <th>4</th>\n",
       "      <td>1</td>\n",
       "      <td>0</td>\n",
       "      <td>1</td>\n",
       "      <td>4</td>\n",
       "      <td>0</td>\n",
       "      <td>6</td>\n",
       "      <td>0</td>\n",
       "      <td>1</td>\n",
       "      <td>-1.334648</td>\n",
       "      <td>-1.093281</td>\n",
       "      <td>0.636370</td>\n",
       "      <td>-1.553889</td>\n",
       "      <td>1</td>\n",
       "    </tr>\n",
       "    <tr>\n",
       "      <th>5</th>\n",
       "      <td>1</td>\n",
       "      <td>0</td>\n",
       "      <td>1</td>\n",
       "      <td>5</td>\n",
       "      <td>0</td>\n",
       "      <td>6</td>\n",
       "      <td>0</td>\n",
       "      <td>2</td>\n",
       "      <td>-1.334648</td>\n",
       "      <td>-1.269602</td>\n",
       "      <td>0.636370</td>\n",
       "      <td>-0.821484</td>\n",
       "      <td>1</td>\n",
       "    </tr>\n",
       "    <tr>\n",
       "      <th>6</th>\n",
       "      <td>1</td>\n",
       "      <td>0</td>\n",
       "      <td>1</td>\n",
       "      <td>6</td>\n",
       "      <td>0</td>\n",
       "      <td>6</td>\n",
       "      <td>0</td>\n",
       "      <td>1</td>\n",
       "      <td>-1.438516</td>\n",
       "      <td>-1.181732</td>\n",
       "      <td>0.895539</td>\n",
       "      <td>-1.553889</td>\n",
       "      <td>2</td>\n",
       "    </tr>\n",
       "    <tr>\n",
       "      <th>7</th>\n",
       "      <td>1</td>\n",
       "      <td>0</td>\n",
       "      <td>1</td>\n",
       "      <td>7</td>\n",
       "      <td>0</td>\n",
       "      <td>6</td>\n",
       "      <td>0</td>\n",
       "      <td>1</td>\n",
       "      <td>-1.542385</td>\n",
       "      <td>-1.269602</td>\n",
       "      <td>1.206542</td>\n",
       "      <td>-1.553889</td>\n",
       "      <td>3</td>\n",
       "    </tr>\n",
       "    <tr>\n",
       "      <th>8</th>\n",
       "      <td>1</td>\n",
       "      <td>0</td>\n",
       "      <td>1</td>\n",
       "      <td>8</td>\n",
       "      <td>0</td>\n",
       "      <td>6</td>\n",
       "      <td>0</td>\n",
       "      <td>1</td>\n",
       "      <td>-1.334648</td>\n",
       "      <td>-1.093281</td>\n",
       "      <td>0.636370</td>\n",
       "      <td>-1.553889</td>\n",
       "      <td>8</td>\n",
       "    </tr>\n",
       "    <tr>\n",
       "      <th>9</th>\n",
       "      <td>1</td>\n",
       "      <td>0</td>\n",
       "      <td>1</td>\n",
       "      <td>9</td>\n",
       "      <td>0</td>\n",
       "      <td>6</td>\n",
       "      <td>0</td>\n",
       "      <td>1</td>\n",
       "      <td>-0.919172</td>\n",
       "      <td>-0.740638</td>\n",
       "      <td>0.688203</td>\n",
       "      <td>-1.553889</td>\n",
       "      <td>14</td>\n",
       "    </tr>\n",
       "  </tbody>\n",
       "</table>\n",
       "</div>"
      ],
      "text/plain": [
       "  season yr mnth hr holiday weekday workingday weathersit      temp     atemp  \\\n",
       "0      1  0    1  0       0       6          0          1 -1.334648 -1.093281   \n",
       "1      1  0    1  1       0       6          0          1 -1.438516 -1.181732   \n",
       "2      1  0    1  2       0       6          0          1 -1.438516 -1.181732   \n",
       "3      1  0    1  3       0       6          0          1 -1.334648 -1.093281   \n",
       "4      1  0    1  4       0       6          0          1 -1.334648 -1.093281   \n",
       "5      1  0    1  5       0       6          0          2 -1.334648 -1.269602   \n",
       "6      1  0    1  6       0       6          0          1 -1.438516 -1.181732   \n",
       "7      1  0    1  7       0       6          0          1 -1.542385 -1.269602   \n",
       "8      1  0    1  8       0       6          0          1 -1.334648 -1.093281   \n",
       "9      1  0    1  9       0       6          0          1 -0.919172 -0.740638   \n",
       "\n",
       "        hum  windspeed  cnt  \n",
       "0  0.947372  -1.553889   16  \n",
       "1  0.895539  -1.553889   40  \n",
       "2  0.895539  -1.553889   32  \n",
       "3  0.636370  -1.553889   13  \n",
       "4  0.636370  -1.553889    1  \n",
       "5  0.636370  -0.821484    1  \n",
       "6  0.895539  -1.553889    2  \n",
       "7  1.206542  -1.553889    3  \n",
       "8  0.636370  -1.553889    8  \n",
       "9  0.688203  -1.553889   14  "
      ]
     },
     "execution_count": 19,
     "metadata": {},
     "output_type": "execute_result"
    }
   ],
   "source": [
    "bikeShareDF.drop(['casual', 'registered','instant','dteday'], axis = 1, inplace=True)\n",
    "bikeShareDF.head(10)"
   ]
  },
  {
   "cell_type": "markdown",
   "metadata": {},
   "source": [
    "Implement a histogram of the count column. What can be said based on the resulting distribution?\n"
   ]
  },
  {
   "cell_type": "code",
   "execution_count": 20,
   "metadata": {},
   "outputs": [
    {
     "data": {
      "image/png": "[encoded data removed]",
      "text/plain": [
       "<Figure size 720x576 with 1 Axes>"
      ]
     },
     "metadata": {
      "needs_background": "light"
     },
     "output_type": "display_data"
    }
   ],
   "source": [
    "# sns.histplot(data=bikeShareDF, x='cnt')\n",
    "bikeHist=bikeShareDF['cnt'].hist(bins=25, figsize=(10,8))\n",
    "## The distribution here isn't a normal distribution. As the count goes higher the volume goes lower from a high value\n",
    "## on the left. It drops almost exponentially. So that there are a large number of observations just to the left and\n",
    "## larger than the mean which we saw above is about 189."
   ]
  },
  {
   "cell_type": "markdown",
   "metadata": {},
   "source": [
    "~~Implement a train/test split with a test size of 33%.~~\n"
   ]
  },
  {
   "cell_type": "code",
   "execution_count": 21,
   "metadata": {
    "scrolled": true
   },
   "outputs": [
    {
     "name": "stdout",
     "output_type": "stream",
     "text": [
      "11643 Train set\n",
      "5736 Test set\n",
      "17379 Total of above; matches length above in info\n"
     ]
    }
   ],
   "source": [
    "from sklearn.model_selection import train_test_split\n",
    "train_set, test_set = train_test_split(bikeShareDF, test_size=0.33, random_state=77)\n",
    "print(len(train_set),\"Train set\")\n",
    "print(len(test_set),\"Test set\")\n",
    "print(sum([len(train_set),len(test_set)]),\"Total of above; matches length above in info\")"
   ]
  },
  {
   "cell_type": "markdown",
   "metadata": {},
   "source": [
    "Implement a baseline linear regression algorithm. Use cross-validation to output r2 and mse. Calculate RMSE base on mse. Document your scores.\n",
    "(In office hours reminder that cross-val (for lin reg) outputs r2 score default)"
   ]
  },
  {
   "cell_type": "code",
   "execution_count": 22,
   "metadata": {},
   "outputs": [
    {
     "name": "stdout",
     "output_type": "stream",
     "text": [
      "      season yr mnth  hr holiday weekday workingday weathersit      temp  \\\n",
      "9124       1  1    1   2       0       6          0          3 -1.853992   \n",
      "6188       3  0    9  10       0       2          1          3  0.327253   \n",
      "2459       2  0    4   9       0       0          0          1 -0.503697   \n",
      "8370       4  0   12  10       0       2          1          2 -0.399828   \n",
      "16383      4  1   11   9       0       2          1          2 -0.711435   \n",
      "\n",
      "          atemp       hum  windspeed  \n",
      "9124  -1.534375  1.206542  -1.553889  \n",
      "6188   0.317291  1.310209  -0.211691  \n",
      "2459  -0.387995 -1.022312   0.764304  \n",
      "8370  -0.300125 -0.244805   0.031899  \n",
      "16383 -0.564316  0.429034  -1.553889  \n"
     ]
    },
    {
     "name": "stderr",
     "output_type": "stream",
     "text": [
      "/mnt/c/Users/User/Documents/pythonProjects/tool1/dst1_env/lib/python3.6/site-packages/pandas/core/frame.py:4174: SettingWithCopyWarning: \n",
      "A value is trying to be set on a copy of a slice from a DataFrame\n",
      "\n",
      "See the caveats in the documentation: https://pandas.pydata.org/pandas-docs/stable/user_guide/indexing.html#returning-a-view-versus-a-copy\n",
      "  errors=errors,\n"
     ]
    },
    {
     "data": {
      "text/plain": [
       "9124      26\n",
       "6188      30\n",
       "2459     102\n",
       "8370     129\n",
       "16383    326\n",
       "Name: cnt, dtype: int64"
      ]
     },
     "execution_count": 22,
     "metadata": {},
     "output_type": "execute_result"
    }
   ],
   "source": [
    "# train_set.head(5) #Count is still here and we'll need it removed.\n",
    "train_Targ=train_set['cnt']\n",
    "train_set.drop('cnt', axis=1, inplace=True)\n",
    "test_Targ=test_set['cnt']\n",
    "test_set.drop('cnt', axis=1, inplace=True)\n",
    "print(train_set.head(5))\n",
    "train_Targ[:5]\n",
    "\n",
    "#from RJ r2 is default cross val score for regressors and different for others go to api default scoring:\n",
    "# r2_scores = cross_val_score(lin_reg,X_train,y_train,cv=10)\n"
   ]
  },
  {
   "cell_type": "code",
   "execution_count": 23,
   "metadata": {},
   "outputs": [
    {
     "name": "stdout",
     "output_type": "stream",
     "text": [
      "mean MSE: 20198.53948824424\n",
      "Scores RMSE [142.54668955 147.73396232 137.17535087 134.59846836 138.2723693\n",
      " 144.40184608 148.90542106 143.51478858 138.53886718 144.82130384]\n",
      "mean RMSE: 142.05090671263798 /n\n",
      "R2 Scores [0.41162608 0.38383355 0.36912719 0.39357557 0.38742554 0.40584105\n",
      " 0.375675   0.40684644 0.37175429 0.38281497]\n",
      "mean R2: 0.38885196996237353\n",
      "R2 score function: 0.39120101203347923\n",
      "--curious here with msefunct Targ v Predict 20152.017746600097\n",
      "checkingRMSE 141.9578026971399\n"
     ]
    }
   ],
   "source": [
    "from sklearn.linear_model import LinearRegression\n",
    "from sklearn.metrics import mean_squared_error\n",
    "from sklearn.model_selection import cross_val_score\n",
    "from sklearn.metrics import r2_score\n",
    "lr = LinearRegression()\n",
    "lr.fit(train_set, train_Targ)\n",
    "predictions=lr.predict(train_set)\n",
    "# lr_mse=mean_squared_error(train_Targ, predictions)\n",
    "# lr_rmse=np.sqrt(lr_mse)\n",
    "scores_mse = cross_val_score(lr, train_set, train_Targ,\n",
    "                        scoring=\"neg_mean_squared_error\", cv=10)\n",
    "print(\"mean MSE:\", (-scores_mse).mean())\n",
    "lr_rmse_scores=np.sqrt(-scores_mse)\n",
    "print(\"Scores RMSE\", lr_rmse_scores)\n",
    "print(\"mean RMSE:\", lr_rmse_scores.mean(),\"/n\")\n",
    "\n",
    "scoresR2 = cross_val_score(lr, train_set,train_Targ,cv=10)\n",
    "\n",
    "print(\"R2 Scores\", scoresR2)\n",
    "print(\"mean R2:\", (scoresR2).mean())\n",
    "print(\"R2 score function:\", r2_score(train_Targ,predictions)) #didn't touch\n",
    "\n",
    "print(\"--curious here with msefunct Targ v Predict\", mean_squared_error(train_Targ,predictions))\n",
    "print('checkingRMSE',np.sqrt(mean_squared_error(train_Targ,predictions)))\n",
    "# print(\"std:\", lr_rmse_scores.std())\n",
    "\n",
    "### Was curious to see what the MSE and RMSE would be here. Also, curious to see how the R2 score\n",
    "### would do between what the cross-val creates and the separate imported method."
   ]
  },
  {
   "cell_type": "markdown",
   "metadata": {},
   "source": [
    "# Assignment 4, Part 3: Model Training\n",
    "- ❓ ❌Create one-hot-encoded values for your categorical columns using get_dummies, and add them to your source dataset.\n",
    "- ❌Drop the original categorical columns from your source dataset.\n",
    "- ❓ ❌Do a test/train split based on your new source dataset. Your new feature set should have 45 columns.\n",
    "- ❌Implement and fit a new linear model on your new training set.\n",
    "- ❌What are the new values for r2, mse, and rmse?\n",
    "- ❌Implement and score a decision tree regressor with random_state=0.\n",
    "- ❌Implement and score a RandomForestRegressor with random_state=0 and n_esitmators=30.\n",
    "- ❌Implement and score an SGDRegressor with max_iter=1000 and tol=1e-3).\n",
    "- ❌Implement and score a Lasso Regressor with alpha=0.1.\n",
    "- ❌Implement and score an ElasticNet Regressor with random_state=0.\n",
    "- ❌Implement and score a Ridge Regressor with alpha=0.5.\n",
    "- ❓ ❌  Implement and score a BaggingRegressor.  Double check in daytime.\n",
    "    - Hint: I did this with a for loop and added my results to a PrettyTable. "
   ]
  },
  {
   "cell_type": "markdown",
   "metadata": {},
   "source": [
    "Create one-hot-encoded values for your categorical columns using get_dummies, and add them to your source dataset.\n",
    "Saw the 45 count on columns later in question and I have 28... Did I need to do hr and more of the time related columns as categorical.\n",
    "~~Drop the original categorical columns from your source dataset.~~ (This seems to have just happened when you make the get-dummies call.) weathersit, year month day add in hours."
   ]
  },
  {
   "cell_type": "code",
   "execution_count": 24,
   "metadata": {},
   "outputs": [
    {
     "name": "stdout",
     "output_type": "stream",
     "text": [
      "       temp     atemp       hum  windspeed  cnt  season_1  season_2  season_3  \\\n",
      "0 -1.334648 -1.093281  0.947372  -1.553889   16         1         0         0   \n",
      "1 -1.438516 -1.181732  0.895539  -1.553889   40         1         0         0   \n",
      "2 -1.438516 -1.181732  0.895539  -1.553889   32         1         0         0   \n",
      "3 -1.334648 -1.093281  0.636370  -1.553889   13         1         0         0   \n",
      "4 -1.334648 -1.093281  0.636370  -1.553889    1         1         0         0   \n",
      "\n",
      "   season_4  mnth_1  ...  hr_18  hr_19  hr_20  hr_21  hr_22  hr_23  \\\n",
      "0         0       1  ...      0      0      0      0      0      0   \n",
      "1         0       1  ...      0      0      0      0      0      0   \n",
      "2         0       1  ...      0      0      0      0      0      0   \n",
      "3         0       1  ...      0      0      0      0      0      0   \n",
      "4         0       1  ...      0      0      0      0      0      0   \n",
      "\n",
      "   weathersit_1  weathersit_2  weathersit_3  weathersit_4  \n",
      "0             1             0             0             0  \n",
      "1             1             0             0             0  \n",
      "2             1             0             0             0  \n",
      "3             1             0             0             0  \n",
      "4             1             0             0             0  \n",
      "\n",
      "[5 rows x 49 columns]\n",
      "<class 'pandas.core.frame.DataFrame'>\n",
      "RangeIndex: 17379 entries, 0 to 17378\n",
      "Data columns (total 49 columns):\n",
      " #   Column        Non-Null Count  Dtype  \n",
      "---  ------        --------------  -----  \n",
      " 0   temp          17379 non-null  float64\n",
      " 1   atemp         17379 non-null  float64\n",
      " 2   hum           17379 non-null  float64\n",
      " 3   windspeed     17379 non-null  float64\n",
      " 4   cnt           17379 non-null  int64  \n",
      " 5   season_1      17379 non-null  uint8  \n",
      " 6   season_2      17379 non-null  uint8  \n",
      " 7   season_3      17379 non-null  uint8  \n",
      " 8   season_4      17379 non-null  uint8  \n",
      " 9   mnth_1        17379 non-null  uint8  \n",
      " 10  mnth_2        17379 non-null  uint8  \n",
      " 11  mnth_3        17379 non-null  uint8  \n",
      " 12  mnth_4        17379 non-null  uint8  \n",
      " 13  mnth_5        17379 non-null  uint8  \n",
      " 14  mnth_6        17379 non-null  uint8  \n",
      " 15  mnth_7        17379 non-null  uint8  \n",
      " 16  mnth_8        17379 non-null  uint8  \n",
      " 17  mnth_9        17379 non-null  uint8  \n",
      " 18  mnth_10       17379 non-null  uint8  \n",
      " 19  mnth_11       17379 non-null  uint8  \n",
      " 20  mnth_12       17379 non-null  uint8  \n",
      " 21  hr_0          17379 non-null  uint8  \n",
      " 22  hr_1          17379 non-null  uint8  \n",
      " 23  hr_2          17379 non-null  uint8  \n",
      " 24  hr_3          17379 non-null  uint8  \n",
      " 25  hr_4          17379 non-null  uint8  \n",
      " 26  hr_5          17379 non-null  uint8  \n",
      " 27  hr_6          17379 non-null  uint8  \n",
      " 28  hr_7          17379 non-null  uint8  \n",
      " 29  hr_8          17379 non-null  uint8  \n",
      " 30  hr_9          17379 non-null  uint8  \n",
      " 31  hr_10         17379 non-null  uint8  \n",
      " 32  hr_11         17379 non-null  uint8  \n",
      " 33  hr_12         17379 non-null  uint8  \n",
      " 34  hr_13         17379 non-null  uint8  \n",
      " 35  hr_14         17379 non-null  uint8  \n",
      " 36  hr_15         17379 non-null  uint8  \n",
      " 37  hr_16         17379 non-null  uint8  \n",
      " 38  hr_17         17379 non-null  uint8  \n",
      " 39  hr_18         17379 non-null  uint8  \n",
      " 40  hr_19         17379 non-null  uint8  \n",
      " 41  hr_20         17379 non-null  uint8  \n",
      " 42  hr_21         17379 non-null  uint8  \n",
      " 43  hr_22         17379 non-null  uint8  \n",
      " 44  hr_23         17379 non-null  uint8  \n",
      " 45  weathersit_1  17379 non-null  uint8  \n",
      " 46  weathersit_2  17379 non-null  uint8  \n",
      " 47  weathersit_3  17379 non-null  uint8  \n",
      " 48  weathersit_4  17379 non-null  uint8  \n",
      "dtypes: float64(4), int64(1), uint8(44)\n",
      "memory usage: 1.4 MB\n"
     ]
    }
   ],
   "source": [
    "bikeShareDF.dtypes\n",
    "## I remove yr, holiday and weekday as they aren't super needed. In class I think you removed  workingday I think?\n",
    "## I left that in as we had used it earlier and I was concerned it would be needed again.\n",
    "bikeShareDF.drop(['yr','holiday','weekday','workingday'], axis = 1, inplace=True)\n",
    "bikeShareDF=pd.get_dummies(data=bikeShareDF)\n",
    "print(bikeShareDF.head(5))\n",
    "## As seen below in the info method we see that \n",
    "bikeShareDF.info()"
   ]
  },
  {
   "cell_type": "markdown",
   "metadata": {},
   "source": [
    "❓ Do a test/train split based on your new source dataset. Your new feature set should have 45 columns. "
   ]
  },
  {
   "cell_type": "code",
   "execution_count": 25,
   "metadata": {},
   "outputs": [
    {
     "name": "stdout",
     "output_type": "stream",
     "text": [
      "           temp     atemp       hum  windspeed  season_1  season_2  season_3  \\\n",
      "9124  -1.853992 -1.534375  1.206542  -1.553889         1         0         0   \n",
      "6188   0.327253  0.317291  1.310209  -0.211691         0         0         1   \n",
      "2459  -0.503697 -0.387995 -1.022312   0.764304         0         1         0   \n",
      "8370  -0.399828 -0.300125 -0.244805   0.031899         0         0         0   \n",
      "16383 -0.711435 -0.564316  0.429034  -1.553889         0         0         0   \n",
      "\n",
      "       season_4  mnth_1  mnth_2  ...  hr_18  hr_19  hr_20  hr_21  hr_22  \\\n",
      "9124          0       1       0  ...      0      0      0      0      0   \n",
      "6188          0       0       0  ...      0      0      0      0      0   \n",
      "2459          0       0       0  ...      0      0      0      0      0   \n",
      "8370          1       0       0  ...      0      0      0      0      0   \n",
      "16383         1       0       0  ...      0      0      0      0      0   \n",
      "\n",
      "       hr_23  weathersit_1  weathersit_2  weathersit_3  weathersit_4  \n",
      "9124       0             0             0             1             0  \n",
      "6188       0             0             0             1             0  \n",
      "2459       0             1             0             0             0  \n",
      "8370       0             0             1             0             0  \n",
      "16383      0             0             1             0             0  \n",
      "\n",
      "[5 rows x 48 columns]\n"
     ]
    },
    {
     "name": "stderr",
     "output_type": "stream",
     "text": [
      "/mnt/c/Users/User/Documents/pythonProjects/tool1/dst1_env/lib/python3.6/site-packages/pandas/core/frame.py:4174: SettingWithCopyWarning: \n",
      "A value is trying to be set on a copy of a slice from a DataFrame\n",
      "\n",
      "See the caveats in the documentation: https://pandas.pydata.org/pandas-docs/stable/user_guide/indexing.html#returning-a-view-versus-a-copy\n",
      "  errors=errors,\n"
     ]
    }
   ],
   "source": [
    "train_setPt3, test_setPt3 = train_test_split(bikeShareDF, test_size=0.33, random_state=77)\n",
    "\n",
    "train_TargPt3=train_setPt3['cnt']\n",
    "train_setPt3.drop('cnt', axis=1, inplace=True)\n",
    "test_TargPt3=test_setPt3['cnt']\n",
    "test_setPt3.drop('cnt', axis=1, inplace=True)\n",
    "\n",
    "print(train_setPt3.head(5))"
   ]
  },
  {
   "cell_type": "code",
   "execution_count": 26,
   "metadata": {},
   "outputs": [
    {
     "data": {
      "text/plain": [
       "['bikeTargetLabTrain.pkl']"
      ]
     },
     "execution_count": 26,
     "metadata": {},
     "output_type": "execute_result"
    }
   ],
   "source": [
    "import joblib as joblib\n",
    "joblib.dump(train_setPt3, \"bikeFeaturesTrain.pkl\")\n",
    "joblib.dump(train_TargPt3, \"bikeTargetLabTrain.pkl\")"
   ]
  },
  {
   "cell_type": "markdown",
   "metadata": {},
   "source": [
    "~~Implement and fit a new linear model on your new training set.What are the new values for r2, mse, and rmse?~~ Now below too."
   ]
  },
  {
   "cell_type": "code",
   "execution_count": 27,
   "metadata": {},
   "outputs": [
    {
     "name": "stdout",
     "output_type": "stream",
     "text": [
      "ScoresR2 [0.67505633 0.63228246 0.60684802 0.63725347 0.59178871 0.65163689\n",
      " 0.63438811 0.61947764 0.62871333 0.6399184 ]\n",
      "MSE from crossVal: [-11221.96561976 -13024.97779871 -11726.56500805 -10836.94372346\n",
      " -12740.806823   -12225.73583062 -12984.66067683 -13213.14965084\n",
      " -11342.87346259 -12236.30955988]\n",
      "R2 score from cross:  0.6317363371283126\n",
      "R2 score from r2 func: 0.6356437194817787\n",
      "mean MSE: 12155.398815372322\n",
      "mean RMSE: 110.19154450801571\n"
     ]
    }
   ],
   "source": [
    "lrPt3 = LinearRegression()\n",
    "lrPt3.fit(train_setPt3, train_TargPt3)\n",
    "predictionsPt3=lrPt3.predict(train_setPt3)\n",
    "# lr_mse=mean_squared_error(train_Targ, predictions)\n",
    "# lr_rmse=np.sqrt(lr_mse)\n",
    "scoresPt3mse = cross_val_score(lrPt3, train_setPt3, train_TargPt3,\n",
    "                        scoring=\"neg_mean_squared_error\", cv=10)\n",
    "scoresPt3_R2 = cross_val_score(lrPt3, train_setPt3, train_TargPt3, cv=10)\n",
    "lrPt3_rmse_scores=np.sqrt(-scoresPt3mse)\n",
    "print(\"ScoresR2\", scoresPt3_R2)\n",
    "print(\"MSE from crossVal:\",scoresPt3mse)\n",
    "print(\"R2 score from cross: \", scoresPt3_R2.mean())\n",
    "print(\"R2 score from r2 func:\", r2_score(train_TargPt3,predictionsPt3))\n",
    "print(\"mean MSE:\", (-scoresPt3mse).mean())\n",
    "print(\"mean RMSE:\", lrPt3_rmse_scores.mean())\n"
   ]
  },
  {
   "cell_type": "markdown",
   "metadata": {},
   "source": [
    "Implement and score a decision tree regressor with random_state=0  ❓❓❓ random_state in right place?"
   ]
  },
  {
   "cell_type": "code",
   "execution_count": 28,
   "metadata": {},
   "outputs": [
    {
     "name": "stdout",
     "output_type": "stream",
     "text": [
      "Decision Tree\n",
      "MSE: 91.36834721864354\n",
      "RMSE: 9.558679156590806\n",
      "R2Score: 0.9972397326154465\n"
     ]
    }
   ],
   "source": [
    "from sklearn.tree import DecisionTreeRegressor\n",
    "\n",
    "dtree_reg = DecisionTreeRegressor(random_state=0)\n",
    "dtree_reg.fit(train_setPt3, train_TargPt3)\n",
    "dtreePredictions=dtree_reg.predict(train_setPt3)#Couldn't do random state here.\n",
    "dtree_mse=mean_squared_error(train_TargPt3, dtreePredictions)\n",
    "dtreeRmse=np.sqrt(dtree_mse)\n",
    "print(\"Decision Tree\")\n",
    "print(\"MSE:\", dtree_mse)\n",
    "print(\"RMSE:\", dtreeRmse)\n",
    "print(\"R2Score:\",r2_score(train_TargPt3,dtreePredictions))"
   ]
  },
  {
   "cell_type": "markdown",
   "metadata": {},
   "source": [
    "~~Implement and score a RandomForestRegressor with random_state=0 and n_esitmators=30~~"
   ]
  },
  {
   "cell_type": "code",
   "execution_count": 29,
   "metadata": {
    "scrolled": true
   },
   "outputs": [
    {
     "name": "stdout",
     "output_type": "stream",
     "text": [
      "Random Tree\n",
      "MSE: 1730.584255000324\n",
      "RMSE: 41.60029152542472\n",
      "R2Score: 0.9477184887248948\n"
     ]
    }
   ],
   "source": [
    "from sklearn.ensemble import RandomForestRegressor\n",
    "\n",
    "ranForest_reg=RandomForestRegressor(random_state=0, n_estimators=30)\n",
    "ranForest_reg.fit(train_setPt3, train_TargPt3)\n",
    "ranForest_regPredictions=ranForest_reg.predict(train_setPt3)\n",
    "ranForest_regMse=mean_squared_error(train_TargPt3, ranForest_regPredictions)\n",
    "ranForest_regRmsenp=np.sqrt(ranForest_regMse)\n",
    "print(\"Random Tree\")\n",
    "print(\"MSE:\", ranForest_regMse)\n",
    "print(\"RMSE:\", ranForest_regRmsenp)\n",
    "print(\"R2Score:\", r2_score(train_TargPt3,ranForest_regPredictions)) "
   ]
  },
  {
   "cell_type": "markdown",
   "metadata": {},
   "source": [
    "~~Implement and score an SGDRegressor with max_iter=1000 and tol=1e-3).~~"
   ]
  },
  {
   "cell_type": "code",
   "execution_count": 30,
   "metadata": {},
   "outputs": [
    {
     "name": "stdout",
     "output_type": "stream",
     "text": [
      "SGD Regressor\n",
      "MSE: 12082.678853355408\n",
      "RMSE: 109.92123931868403\n",
      "R2Score: 0.6349783555004911\n"
     ]
    }
   ],
   "source": [
    "from sklearn.linear_model import SGDRegressor\n",
    "\n",
    "sgdReg=SGDRegressor(max_iter=1000, tol=1e-3)\n",
    "sgdReg.fit(train_setPt3, train_TargPt3)\n",
    "sgdPredictions=sgdReg.predict(train_setPt3)\n",
    "sgdReg_MSE=mean_squared_error(train_TargPt3,sgdPredictions)\n",
    "sgdReg_Rmse=np.sqrt(sgdReg_MSE)\n",
    "print(\"SGD Regressor\")\n",
    "print(\"MSE:\", sgdReg_MSE)\n",
    "print(\"RMSE:\", sgdReg_Rmse)\n",
    "print(\"R2Score:\", r2_score(train_TargPt3, sgdPredictions))"
   ]
  },
  {
   "cell_type": "markdown",
   "metadata": {},
   "source": [
    "~~Implement and score a Lasso Regressor with alpha=0.1.~~"
   ]
  },
  {
   "cell_type": "code",
   "execution_count": 31,
   "metadata": {},
   "outputs": [
    {
     "name": "stdout",
     "output_type": "stream",
     "text": [
      "Lasso Regressor\n",
      "MSE: 12071.896583733977\n",
      "RMSE: 109.87218293878563\n",
      "R2Score: 0.6353040913605946\n"
     ]
    }
   ],
   "source": [
    "from sklearn.linear_model import Lasso\n",
    "\n",
    "lassoReg=Lasso(alpha=0.1)\n",
    "lassoReg.fit(train_setPt3, train_TargPt3)\n",
    "lassoPredictions=lassoReg.predict(train_setPt3)\n",
    "lasso_MSE=mean_squared_error(train_TargPt3, lassoPredictions)\n",
    "lasso_RMSE=np.sqrt(lasso_MSE)\n",
    "print(\"Lasso Regressor\")\n",
    "print(\"MSE:\", lasso_MSE)\n",
    "print(\"RMSE:\", lasso_RMSE)\n",
    "print(\"R2Score:\", r2_score(train_TargPt3, lassoPredictions))"
   ]
  },
  {
   "cell_type": "markdown",
   "metadata": {},
   "source": [
    "~~Implement and score an ElasticNet Regressor with random_state=0.~~"
   ]
  },
  {
   "cell_type": "code",
   "execution_count": 32,
   "metadata": {},
   "outputs": [
    {
     "name": "stdout",
     "output_type": "stream",
     "text": [
      "ElasticNet Regressor\n",
      "MSE: 23171.64176769831\n",
      "RMSE: 152.22234319474362\n",
      "R2Score: 0.29997719161013014\n"
     ]
    }
   ],
   "source": [
    "from sklearn.linear_model import ElasticNet\n",
    "\n",
    "elastNetReg=ElasticNet(random_state=0)\n",
    "elastNetReg.fit(train_setPt3, train_TargPt3)\n",
    "elastPredictions=elastNetReg.predict(train_setPt3)\n",
    "elast_MSE=mean_squared_error(train_TargPt3,elastPredictions)\n",
    "elast_RMSE=np.sqrt(elast_MSE)\n",
    "print(\"ElasticNet Regressor\")\n",
    "print(\"MSE:\", elast_MSE)\n",
    "print(\"RMSE:\", elast_RMSE)\n",
    "print(\"R2Score:\", r2_score(train_TargPt3, elastPredictions))"
   ]
  },
  {
   "cell_type": "markdown",
   "metadata": {},
   "source": [
    "~~Implement and score a Ridge Regressor with alpha=0.5.~~"
   ]
  },
  {
   "cell_type": "code",
   "execution_count": 33,
   "metadata": {
    "scrolled": true
   },
   "outputs": [
    {
     "name": "stdout",
     "output_type": "stream",
     "text": [
      "Ridge Regressor\n",
      "MSE: 12060.672233977026\n",
      "RMSE: 109.82109193582545\n",
      "R2Score: 0.635643182604883\n"
     ]
    }
   ],
   "source": [
    "from sklearn.linear_model import Ridge\n",
    "\n",
    "ridgeReg=Ridge(alpha=0.5)\n",
    "ridgeReg.fit(train_setPt3, train_TargPt3)\n",
    "ridgePredictions=ridgeReg.predict(train_setPt3)\n",
    "ridge_MSE=mean_squared_error(train_TargPt3, ridgePredictions)\n",
    "ridge_RMSE=np.sqrt(ridge_MSE)\n",
    "print(\"Ridge Regressor\")\n",
    "print(\"MSE:\", ridge_MSE)\n",
    "print(\"RMSE:\", ridge_RMSE)\n",
    "print(\"R2Score:\", r2_score(train_TargPt3, ridgePredictions))"
   ]
  },
  {
   "cell_type": "markdown",
   "metadata": {},
   "source": [
    "Implement and score a BaggingRegressor. Decision tree is default so we stuck with that."
   ]
  },
  {
   "cell_type": "code",
   "execution_count": 34,
   "metadata": {},
   "outputs": [
    {
     "name": "stdout",
     "output_type": "stream",
     "text": [
      "Bagging Regressor\n",
      "MSE: 12060.672233977026\n",
      "RMSE: 109.82109193582545\n",
      "R2Score: 0.9378435451280962\n"
     ]
    }
   ],
   "source": [
    "from sklearn.ensemble import BaggingRegressor\n",
    "bagReg=BaggingRegressor()\n",
    "bagReg.fit(train_setPt3, train_TargPt3)\n",
    "bagPredicts=bagReg.predict(train_setPt3)\n",
    "bag_MSE=mean_squared_error(train_TargPt3, ridgePredictions)\n",
    "bag_RMSE=np.sqrt(bag_MSE)\n",
    "print(\"Bagging Regressor\")\n",
    "print(\"MSE:\", bag_MSE)\n",
    "print(\"RMSE:\", bag_RMSE)\n",
    "print(\"R2Score:\", r2_score(train_TargPt3, bagPredicts))\n"
   ]
  },
  {
   "cell_type": "code",
   "execution_count": 35,
   "metadata": {},
   "outputs": [
    {
     "name": "stdout",
     "output_type": "stream",
     "text": [
      "+----------------------+--------------------+--------------------+---------------------+\n",
      "|    Base Model/Est    |        MSE         |        RMSE        |          R2         |\n",
      "+----------------------+--------------------+--------------------+---------------------+\n",
      "|   LinearRegression   | 12155.398815372322 | 110.19154450801571 |  0.6317363371283126 |\n",
      "|    Decision Tree     | 91.36834721864354  | 9.558679156590806  |  0.9972397326154465 |\n",
      "|    Random Forest     | 1730.584255000324  | 41.60029152542472  |  0.9477184887248948 |\n",
      "|    SGD Regressor     | 12082.678853355408 | 109.92123931868403 |  0.6349783555004911 |\n",
      "|   Lasso Regressor    | 12071.896583733977 | 109.87218293878563 |  0.6353040913605946 |\n",
      "| ElasticNet Regressor | 23171.64176769831  | 152.22234319474362 | 0.29997719161013014 |\n",
      "|   Ridge Regressor    | 12060.672233977026 | 109.82109193582545 |  0.635643182604883  |\n",
      "|  Bagging Regressor   | 12060.672233977026 | 109.82109193582545 |  0.9378435451280962 |\n",
      "+----------------------+--------------------+--------------------+---------------------+\n"
     ]
    }
   ],
   "source": [
    "# !pip3 install PrettyTable\n",
    "from prettytable import PrettyTable\n",
    "prettyTab=PrettyTable()\n",
    "prettyTab.field_names = [\"Base Model/Est\", \"MSE\", \"RMSE\", \"R2\"]\n",
    "#FROM above just bringing together here:\n",
    "prettyTab.add_row([lrPt3.__class__.__name__, (-scoresPt3mse).mean(),lrPt3_rmse_scores.mean(), scoresPt3_R2.mean()])\n",
    "prettyTab.add_row([\"Decision Tree\", dtree_mse, dtreeRmse, r2_score(train_TargPt3,dtreePredictions)])\n",
    "prettyTab.add_row([\"Random Forest\",ranForest_regMse, ranForest_regRmsenp, r2_score(train_TargPt3,ranForest_regPredictions)])\n",
    "prettyTab.add_row([\"SGD Regressor\",sgdReg_MSE,sgdReg_Rmse, r2_score(train_TargPt3, sgdPredictions)])\n",
    "prettyTab.add_row([\"Lasso Regressor\", lasso_MSE, lasso_RMSE, r2_score(train_TargPt3, lassoPredictions)])\n",
    "prettyTab.add_row([\"ElasticNet Regressor\", elast_MSE, elast_RMSE,  r2_score(train_TargPt3, elastPredictions)])\n",
    "prettyTab.add_row([\"Ridge Regressor\", ridge_MSE, ridge_RMSE, r2_score(train_TargPt3, ridgePredictions)])\n",
    "prettyTab.add_row([\"Bagging Regressor\", bag_MSE, bag_RMSE, r2_score(train_TargPt3, bagPredicts)])\n",
    "print(prettyTab)"
   ]
  },
  {
   "cell_type": "markdown",
   "metadata": {},
   "source": [
    "# Assignment 4, Part 4: Model Tuning\n",
    "- ❌o Take the top three performing models and implement cross-validation on them.\n",
    "- ▪ Hint: They should be Decision Tree Regressor, RandomForestRegressor, and BaggingRegressor.\n",
    "- ❌o Take your top performing model (mine was the RandomForestRegressor) and do a randomize search cv with 20 iterations and three folds.\n",
    "- ▪❌ I found it is best to set your n_jobs = (# of cpu’s you have – 1). This took about 10 minutes on my MacBook with 4 CPUs and 8 GB of memory.\n",
    "- ▪ Your param distributions should include the following:\n",
    "- ● Bootstrap: true, false\n",
    "- ● Max_depth: 10-110, number of bins 11\n",
    "- ● Max_features: auto, sqrt\n",
    "- ● Min_samples_split: 2,5,10\n",
    "- ● Min_samples_leaf: 1,2,4\n",
    "- ● 200 – 2000, number of bins 10\n",
    "- o Take your best_estimator_ and see how it compares by doing cross_vals for r2, mse, and calculating rmse.\n",
    "- Finally, run predictions on your test set with this model, and see how your r2 score and RMSE look."
   ]
  },
  {
   "cell_type": "markdown",
   "metadata": {},
   "source": [
    " ~~Take the top three performing models and implement cross-validation on them.~~"
   ]
  },
  {
   "cell_type": "code",
   "execution_count": 36,
   "metadata": {},
   "outputs": [
    {
     "name": "stdout",
     "output_type": "stream",
     "text": [
      "Decision Tree Cross Val score: 0.40965310810116995\n",
      "0.40965310810116995\n",
      "Random Forest Cross Val score: 0.6674083635875225\n",
      "Bagging Cross Val score: 0.6517818752235671\n"
     ]
    }
   ],
   "source": [
    "##Need to take top three and do cross val on them:  Decision Tree Random Tree Bagging Regressor  \n",
    "\n",
    "#Decision Tree\n",
    "decTreeScores=cross_val_score(dtree_reg, train_setPt3, train_TargPt3, cv=10)\n",
    "decTreeScoresWscoring=cross_val_score(dtree_reg, train_setPt3, train_TargPt3, scoring=\"r2\", cv=10)\n",
    "# decTreeScoresWscoringMSE=cross_val_score(dtree_reg, train_setPt3, train_TargPt3, scoring=\"neg_mean_squared_error\", cv=10)\n",
    "# print(decTreeScores)\n",
    "decTreeScore=decTreeScores.mean()\n",
    "print(\"Decision Tree Cross Val score:\",decTreeScore)\n",
    "\n",
    "##Double check online research the diff on this scoring try to find or ask Prof where that API was for scoring info.\n",
    "print(decTreeScoresWscoring.mean())\n",
    "# print(decTreeScoresWscoringMSE)\n",
    "\n",
    "randoForScores=cross_val_score(ranForest_reg, train_setPt3, train_TargPt3, cv=10)\n",
    "# print(randoForScores)\n",
    "randoScore=randoForScores.mean()\n",
    "print(\"Random Forest Cross Val score:\",randoScore)\n",
    "# randoForScoresR2=cross_val_score(ranForest_reg, train_setPt3, train_TargPt3, scoring=\"r2\", cv=10)\n",
    "# randoForScoresMSE=cross_val_score(ranForest_reg, train_setPt3, train_TargPt3, scoring=\"neg_mean_squared_error\",  cv=10)\n",
    "# print(randoForScoresR2)\n",
    "# print(randoForScoresMSE)\n",
    "\n",
    "bagForScores=cross_val_score(bagReg, train_setPt3, train_TargPt3, cv=10)\n",
    "# print(bagForScores)\n",
    "bagScore=bagForScores.mean()\n",
    "print(\"Bagging Cross Val score:\", bagScore)"
   ]
  },
  {
   "cell_type": "markdown",
   "metadata": {},
   "source": [
    "❌Take your top performing model (mine was the RandomForestRegressor) and do a randomize search cv with 20 iterations and three folds.\n",
    "- ❌▪ I found it is best to set your n_jobs = (# of cpu’s you have – 1). This took about 10 minutes on my MacBook with 4 CPUs and 8 GB of memory.\n",
    "- ▪ Your param distributions should include the following:\n",
    "- ● Bootstrap: true, false\n",
    "- ● Max_depth: 10-110, number of bins 11\n",
    "- ● Max_features: auto, sqrt\n",
    "- ● Min_samples_split: 2,5,10\n",
    "- ● Min_samples_leaf: 1,2,4\n",
    "- ●❌ 200 – 2000, number of bins 10  ### from class he said this is the n_estimators."
   ]
  },
  {
   "cell_type": "code",
   "execution_count": 37,
   "metadata": {},
   "outputs": [
    {
     "data": {
      "text/plain": [
       "RandomizedSearchCV(cv=3,\n",
       "                   estimator=RandomForestRegressor(n_estimators=30,\n",
       "                                                   random_state=0),\n",
       "                   n_iter=20, n_jobs=-1,\n",
       "                   param_distributions={'bootstrap': [True, False],\n",
       "                                        'max_depth': [10, 20, 30, 40, 50, 60,\n",
       "                                                      70, 80, 90, 100, 110],\n",
       "                                        'max_features': ['auto', 'sqrt'],\n",
       "                                        'min_samples_leaf': [1, 2, 4],\n",
       "                                        'min_samples_split': [2, 5, 10],\n",
       "                                        'n_estimators': [200, 400, 600, 800,\n",
       "                                                         1000, 1200, 1400, 1600,\n",
       "                                                         1800, 2000]},\n",
       "                   random_state=77)"
      ]
     },
     "execution_count": 37,
     "metadata": {},
     "output_type": "execute_result"
    }
   ],
   "source": [
    "from sklearn.model_selection import RandomizedSearchCV\n",
    "\n",
    "#My best score from the cross val was also Random Forest\n",
    "param_distributions={'bootstrap':[True, False],\n",
    "                     #'max_depth':[10-110], #number of bins 11\n",
    "                     'max_depth':[int(maxD) for maxD in np.linspace(start = 10, stop = 110, num=11)],\n",
    "                     'max_features':['auto', 'sqrt'],\n",
    "                     'min_samples_split':[2,5,10],\n",
    "                     'min_samples_leaf':[1,2,4],\n",
    "                     'n_estimators':[int(e) for e in np.linspace(start=200, stop=2000, num=10)]\n",
    "                    }\n",
    "                    \n",
    "rndSearch_CV=RandomizedSearchCV(ranForest_reg, param_distributions, n_iter=20, cv=3, n_jobs=-1, random_state=77)\n",
    "rndSearch_CV.fit(train_setPt3, train_TargPt3) "
   ]
  },
  {
   "cell_type": "code",
   "execution_count": 38,
   "metadata": {},
   "outputs": [
    {
     "name": "stdout",
     "output_type": "stream",
     "text": [
      "{'n_estimators': 1200, 'min_samples_split': 5, 'min_samples_leaf': 2, 'max_features': 'sqrt', 'max_depth': 50, 'bootstrap': False}\n"
     ]
    }
   ],
   "source": [
    "print(rndSearch_CV.best_params_)\n",
    "bestSearchedModel=rndSearch_CV.best_estimator_"
   ]
  },
  {
   "cell_type": "markdown",
   "metadata": {},
   "source": [
    "- o Take your best_estimator_ and see how it compares by doing cross_vals for r2, mse, and calculating rmse.\n",
    "- Finally, run predictions on your test set with this model, and see how your r2 score and RMSE look."
   ]
  },
  {
   "cell_type": "code",
   "execution_count": 39,
   "metadata": {},
   "outputs": [
    {
     "name": "stdout",
     "output_type": "stream",
     "text": [
      "Best Est R2 score 0.6933459076468317\n",
      "Best Est MSE score 10128.577799296207\n",
      "Best Est RMSE score 100.55268991136505\n",
      "Test Set R2 score 0.6864533402367172\n",
      "Test Set MSE score 10182.45639349457\n",
      "Test Set RMSE score 100.9081582107937\n"
     ]
    }
   ],
   "source": [
    "bestEst_crossScoresR2=cross_val_score(bestSearchedModel, train_setPt3, train_TargPt3, cv=10)\n",
    "bestEst_crossScoresMSE=cross_val_score(bestSearchedModel, train_setPt3, train_TargPt3, scoring=\"neg_mean_squared_error\", cv=10)\n",
    "bestEs_rmse_scores=np.sqrt(-bestEst_crossScoresMSE)\n",
    "\n",
    "print(\"Best Est R2 score\", bestEst_crossScoresR2.mean())\n",
    "print(\"Best Est MSE score\", -(bestEst_crossScoresMSE.mean()))\n",
    "print(\"Best Est RMSE score\",bestEs_rmse_scores.mean())\n",
    "\n",
    "predictionsTEST=bestSearchedModel.predict(test_setPt3)\n",
    "# test_TargPt3\n",
    "# test_setPt3\n",
    "R2onTest=r2_score(test_TargPt3,predictionsTEST)\n",
    "MSEonTest=mean_squared_error(test_TargPt3,predictionsTEST)\n",
    "RMSEonTest=np.sqrt(MSEonTest)\n",
    "\n",
    "#Now the test sets Scores from the predictions:\n",
    "print(\"Test Set R2 score\", R2onTest)\n",
    "print(\"Test Set MSE score\", MSEonTest)\n",
    "print(\"Test Set RMSE score\",RMSEonTest)"
   ]
  }
 ],
 "metadata": {
  "kernelspec": {
   "display_name": "Python 3",
   "language": "python",
   "name": "python3"
  },
  "language_info": {
   "codemirror_mode": {
    "name": "ipython",
    "version": 3
   },
   "file_extension": ".py",
   "mimetype": "text/x-python",
   "name": "python",
   "nbconvert_exporter": "python",
   "pygments_lexer": "ipython3",
   "version": "3.6.9"
  }
 },
 "nbformat": 4,
 "nbformat_minor": 2
}
